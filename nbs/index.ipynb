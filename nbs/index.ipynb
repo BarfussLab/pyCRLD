{
 "cells": [
  {
   "attachments": {},
   "cell_type": "markdown",
   "metadata": {},
   "source": [
    "# CRLD\n",
    "\n",
    "\n"
   ]
  },
  {
   "attachments": {},
   "cell_type": "markdown",
   "metadata": {},
   "source": [
    "**Collective Reinforcement Learning Dynamics** in Python\n",
    "\n",
    "is a tool to model the collective dynamics emerging from multi-agent reinforcement learning.\n",
    "\n",
    "---"
   ]
  },
  {
   "attachments": {},
   "cell_type": "markdown",
   "metadata": {},
   "source": [
    "Multi-agent reinforcement learning (MARL) provides a comprehensive framework for studying the interplay among learning, representation, and decision-making between multiple actors.\n",
    "As a result, it offers an integrating platform to in-silico test hypotheses and build theory on how different cognitive mechanisms affect collective adaptive behavior in complex environments.\n",
    "\n",
    "![](0images/MAEi_core.png)\n",
    "\n",
    "In combination with advances in machine learning, particularly deep learning, modern MARL has produced spectacular successes in high-dimensional environments. \n",
    "However, standard RL simulations have significant disadvantages for modeling the collective behavior emerging from MARL: they are *noisy*, sometimes *hard to explain*, *sample-inefficient*, and *computationally intense*.\n",
    "\n",
    "**CRLD** offers a solution in two ways of idealization.\n",
    "First, CRLD aims to understand the principles behind collective behavior in idealized, low-dimensional environments. Second, CRLD concentrates on the essence of the stochastic and computationally intense reinforcement learning algorithms by deriving their strategy-average, deterministic learning equations. \n",
    "\n",
    "In a nutshell, reinforcement learning agents strive to *improve* the rewards they receive while inter*act*ing with the environment. In each time step, they asses a sample of their current *reward-prediction error* $\\delta$. \n",
    "\n",
    "The key idea of CRLD is to replace the individual sample realizations with its strategy average plus a small error term,\n",
    "\n",
    "$$\n",
    "\\delta \\leftarrow \\bar\\delta + \\epsilon.\n",
    "$$\n",
    "\n",
    "One can interpret these learning dynamics from a cognitive and an engineering perspective. In the limit of a vanishing error term, $\\epsilon \\rightarrow 0$, agents have a perfect model of the current environment (cognitive interpretation) or an infinite replay buffer (engineering interpretation)\n",
    "\n",
    "How to put these ideas into practice?"
   ]
  },
  {
   "attachments": {},
   "cell_type": "markdown",
   "metadata": {},
   "source": [
    "## Install"
   ]
  },
  {
   "attachments": {},
   "cell_type": "markdown",
   "metadata": {},
   "source": [
    "First, let's install the package from github:"
   ]
  },
  {
   "attachments": {},
   "cell_type": "markdown",
   "metadata": {},
   "source": [
    "```sh\n",
    "pip install \"git+https://github.com/wbarfuss/pyCRLD.git\"\n",
    "```"
   ]
  },
  {
   "cell_type": "code",
   "execution_count": null,
   "metadata": {},
   "outputs": [
    {
     "name": "stdout",
     "output_type": "stream",
     "text": [
      "Obtaining file:///Users/wolf/Downloads/testCLD/pyCRLD\n",
      "  Preparing metadata (setup.py) ... \u001b[?25ldone\n",
      "\u001b[?25hRequirement already satisfied: fastcore>=1.5.27 in /Users/wolf/Other/miniconda3/envs/CRLD2/lib/python3.9/site-packages (from pyCRLD==0.0.1) (1.5.29)\n",
      "Requirement already satisfied: numpy>=1.21.2 in /Users/wolf/Other/miniconda3/envs/CRLD2/lib/python3.9/site-packages (from pyCRLD==0.0.1) (1.24.3)\n",
      "Requirement already satisfied: jax>=0.3.25 in /Users/wolf/Other/miniconda3/envs/CRLD2/lib/python3.9/site-packages (from pyCRLD==0.0.1) (0.4.12)\n",
      "Requirement already satisfied: jaxlib>=0.3.25 in /Users/wolf/Other/miniconda3/envs/CRLD2/lib/python3.9/site-packages (from pyCRLD==0.0.1) (0.4.12)\n",
      "Requirement already satisfied: matplotlib>=3.4.3 in /Users/wolf/Other/miniconda3/envs/CRLD2/lib/python3.9/site-packages (from pyCRLD==0.0.1) (3.7.1)\n",
      "Requirement already satisfied: pydoe>=0.3.8 in /Users/wolf/Other/miniconda3/envs/CRLD2/lib/python3.9/site-packages (from pyCRLD==0.0.1) (0.3.8)\n",
      "Requirement already satisfied: nbdev>=2.3.9 in /Users/wolf/Other/miniconda3/envs/CRLD2/lib/python3.9/site-packages (from pyCRLD==0.0.1) (2.3.12)\n",
      "Requirement already satisfied: pip in /Users/wolf/Other/miniconda3/envs/CRLD2/lib/python3.9/site-packages (from fastcore>=1.5.27->pyCRLD==0.0.1) (23.1.2)\n",
      "Requirement already satisfied: packaging in /Users/wolf/Other/miniconda3/envs/CRLD2/lib/python3.9/site-packages (from fastcore>=1.5.27->pyCRLD==0.0.1) (23.1)\n",
      "Requirement already satisfied: ml-dtypes>=0.1.0 in /Users/wolf/Other/miniconda3/envs/CRLD2/lib/python3.9/site-packages (from jax>=0.3.25->pyCRLD==0.0.1) (0.2.0)\n",
      "Requirement already satisfied: opt-einsum in /Users/wolf/Other/miniconda3/envs/CRLD2/lib/python3.9/site-packages (from jax>=0.3.25->pyCRLD==0.0.1) (3.3.0)\n",
      "Requirement already satisfied: scipy>=1.7 in /Users/wolf/Other/miniconda3/envs/CRLD2/lib/python3.9/site-packages (from jax>=0.3.25->pyCRLD==0.0.1) (1.10.1)\n",
      "Requirement already satisfied: importlib-metadata>=4.6 in /Users/wolf/Other/miniconda3/envs/CRLD2/lib/python3.9/site-packages (from jax>=0.3.25->pyCRLD==0.0.1) (6.6.0)\n",
      "Requirement already satisfied: contourpy>=1.0.1 in /Users/wolf/Other/miniconda3/envs/CRLD2/lib/python3.9/site-packages (from matplotlib>=3.4.3->pyCRLD==0.0.1) (1.0.7)\n",
      "Requirement already satisfied: cycler>=0.10 in /Users/wolf/Other/miniconda3/envs/CRLD2/lib/python3.9/site-packages (from matplotlib>=3.4.3->pyCRLD==0.0.1) (0.11.0)\n",
      "Requirement already satisfied: fonttools>=4.22.0 in /Users/wolf/Other/miniconda3/envs/CRLD2/lib/python3.9/site-packages (from matplotlib>=3.4.3->pyCRLD==0.0.1) (4.40.0)\n",
      "Requirement already satisfied: kiwisolver>=1.0.1 in /Users/wolf/Other/miniconda3/envs/CRLD2/lib/python3.9/site-packages (from matplotlib>=3.4.3->pyCRLD==0.0.1) (1.4.4)\n",
      "Requirement already satisfied: pillow>=6.2.0 in /Users/wolf/Other/miniconda3/envs/CRLD2/lib/python3.9/site-packages (from matplotlib>=3.4.3->pyCRLD==0.0.1) (9.5.0)\n",
      "Requirement already satisfied: pyparsing>=2.3.1 in /Users/wolf/Other/miniconda3/envs/CRLD2/lib/python3.9/site-packages (from matplotlib>=3.4.3->pyCRLD==0.0.1) (3.0.9)\n",
      "Requirement already satisfied: python-dateutil>=2.7 in /Users/wolf/Other/miniconda3/envs/CRLD2/lib/python3.9/site-packages (from matplotlib>=3.4.3->pyCRLD==0.0.1) (2.8.2)\n",
      "Requirement already satisfied: importlib-resources>=3.2.0 in /Users/wolf/Other/miniconda3/envs/CRLD2/lib/python3.9/site-packages (from matplotlib>=3.4.3->pyCRLD==0.0.1) (5.12.0)\n",
      "Requirement already satisfied: execnb>=0.1.4 in /Users/wolf/Other/miniconda3/envs/CRLD2/lib/python3.9/site-packages (from nbdev>=2.3.9->pyCRLD==0.0.1) (0.1.5)\n",
      "Requirement already satisfied: astunparse in /Users/wolf/Other/miniconda3/envs/CRLD2/lib/python3.9/site-packages (from nbdev>=2.3.9->pyCRLD==0.0.1) (1.6.3)\n",
      "Requirement already satisfied: ghapi>=1.0.3 in /Users/wolf/Other/miniconda3/envs/CRLD2/lib/python3.9/site-packages (from nbdev>=2.3.9->pyCRLD==0.0.1) (1.0.3)\n",
      "Requirement already satisfied: watchdog in /Users/wolf/Other/miniconda3/envs/CRLD2/lib/python3.9/site-packages (from nbdev>=2.3.9->pyCRLD==0.0.1) (3.0.0)\n",
      "Requirement already satisfied: asttokens in /Users/wolf/Other/miniconda3/envs/CRLD2/lib/python3.9/site-packages (from nbdev>=2.3.9->pyCRLD==0.0.1) (2.2.1)\n",
      "Requirement already satisfied: PyYAML in /Users/wolf/Other/miniconda3/envs/CRLD2/lib/python3.9/site-packages (from nbdev>=2.3.9->pyCRLD==0.0.1) (6.0)\n",
      "Requirement already satisfied: ipython in /Users/wolf/Other/miniconda3/envs/CRLD2/lib/python3.9/site-packages (from execnb>=0.1.4->nbdev>=2.3.9->pyCRLD==0.0.1) (8.14.0)\n",
      "Requirement already satisfied: zipp>=0.5 in /Users/wolf/Other/miniconda3/envs/CRLD2/lib/python3.9/site-packages (from importlib-metadata>=4.6->jax>=0.3.25->pyCRLD==0.0.1) (3.15.0)\n",
      "Requirement already satisfied: six>=1.5 in /Users/wolf/Other/miniconda3/envs/CRLD2/lib/python3.9/site-packages (from python-dateutil>=2.7->matplotlib>=3.4.3->pyCRLD==0.0.1) (1.16.0)\n",
      "Requirement already satisfied: wheel<1.0,>=0.23.0 in /Users/wolf/Other/miniconda3/envs/CRLD2/lib/python3.9/site-packages (from astunparse->nbdev>=2.3.9->pyCRLD==0.0.1) (0.40.0)\n",
      "Requirement already satisfied: backcall in /Users/wolf/Other/miniconda3/envs/CRLD2/lib/python3.9/site-packages (from ipython->execnb>=0.1.4->nbdev>=2.3.9->pyCRLD==0.0.1) (0.2.0)\n",
      "Requirement already satisfied: decorator in /Users/wolf/Other/miniconda3/envs/CRLD2/lib/python3.9/site-packages (from ipython->execnb>=0.1.4->nbdev>=2.3.9->pyCRLD==0.0.1) (5.1.1)\n",
      "Requirement already satisfied: jedi>=0.16 in /Users/wolf/Other/miniconda3/envs/CRLD2/lib/python3.9/site-packages (from ipython->execnb>=0.1.4->nbdev>=2.3.9->pyCRLD==0.0.1) (0.18.2)\n",
      "Requirement already satisfied: matplotlib-inline in /Users/wolf/Other/miniconda3/envs/CRLD2/lib/python3.9/site-packages (from ipython->execnb>=0.1.4->nbdev>=2.3.9->pyCRLD==0.0.1) (0.1.6)\n",
      "Requirement already satisfied: pickleshare in /Users/wolf/Other/miniconda3/envs/CRLD2/lib/python3.9/site-packages (from ipython->execnb>=0.1.4->nbdev>=2.3.9->pyCRLD==0.0.1) (0.7.5)\n",
      "Requirement already satisfied: prompt-toolkit!=3.0.37,<3.1.0,>=3.0.30 in /Users/wolf/Other/miniconda3/envs/CRLD2/lib/python3.9/site-packages (from ipython->execnb>=0.1.4->nbdev>=2.3.9->pyCRLD==0.0.1) (3.0.38)\n",
      "Requirement already satisfied: pygments>=2.4.0 in /Users/wolf/Other/miniconda3/envs/CRLD2/lib/python3.9/site-packages (from ipython->execnb>=0.1.4->nbdev>=2.3.9->pyCRLD==0.0.1) (2.15.1)\n",
      "Requirement already satisfied: stack-data in /Users/wolf/Other/miniconda3/envs/CRLD2/lib/python3.9/site-packages (from ipython->execnb>=0.1.4->nbdev>=2.3.9->pyCRLD==0.0.1) (0.6.2)\n",
      "Requirement already satisfied: traitlets>=5 in /Users/wolf/Other/miniconda3/envs/CRLD2/lib/python3.9/site-packages (from ipython->execnb>=0.1.4->nbdev>=2.3.9->pyCRLD==0.0.1) (5.9.0)\n",
      "Requirement already satisfied: typing-extensions in /Users/wolf/Other/miniconda3/envs/CRLD2/lib/python3.9/site-packages (from ipython->execnb>=0.1.4->nbdev>=2.3.9->pyCRLD==0.0.1) (4.6.3)\n",
      "Requirement already satisfied: pexpect>4.3 in /Users/wolf/Other/miniconda3/envs/CRLD2/lib/python3.9/site-packages (from ipython->execnb>=0.1.4->nbdev>=2.3.9->pyCRLD==0.0.1) (4.8.0)\n",
      "Requirement already satisfied: appnope in /Users/wolf/Other/miniconda3/envs/CRLD2/lib/python3.9/site-packages (from ipython->execnb>=0.1.4->nbdev>=2.3.9->pyCRLD==0.0.1) (0.1.3)\n",
      "Requirement already satisfied: parso<0.9.0,>=0.8.0 in /Users/wolf/Other/miniconda3/envs/CRLD2/lib/python3.9/site-packages (from jedi>=0.16->ipython->execnb>=0.1.4->nbdev>=2.3.9->pyCRLD==0.0.1) (0.8.3)\n",
      "Requirement already satisfied: ptyprocess>=0.5 in /Users/wolf/Other/miniconda3/envs/CRLD2/lib/python3.9/site-packages (from pexpect>4.3->ipython->execnb>=0.1.4->nbdev>=2.3.9->pyCRLD==0.0.1) (0.7.0)\n",
      "Requirement already satisfied: wcwidth in /Users/wolf/Other/miniconda3/envs/CRLD2/lib/python3.9/site-packages (from prompt-toolkit!=3.0.37,<3.1.0,>=3.0.30->ipython->execnb>=0.1.4->nbdev>=2.3.9->pyCRLD==0.0.1) (0.2.6)\n",
      "Requirement already satisfied: executing>=1.2.0 in /Users/wolf/Other/miniconda3/envs/CRLD2/lib/python3.9/site-packages (from stack-data->ipython->execnb>=0.1.4->nbdev>=2.3.9->pyCRLD==0.0.1) (1.2.0)\n",
      "Requirement already satisfied: pure-eval in /Users/wolf/Other/miniconda3/envs/CRLD2/lib/python3.9/site-packages (from stack-data->ipython->execnb>=0.1.4->nbdev>=2.3.9->pyCRLD==0.0.1) (0.2.2)\n",
      "Installing collected packages: pyCRLD\n",
      "  Attempting uninstall: pyCRLD\n",
      "    Found existing installation: pyCRLD 0.0.1\n",
      "    Uninstalling pyCRLD-0.0.1:\n",
      "      Successfully uninstalled pyCRLD-0.0.1\n",
      "  Running setup.py develop for pyCRLD\n",
      "Successfully installed pyCRLD-0.0.1\n"
     ]
    }
   ],
   "source": [
    "#| hide\n",
    "!pip install -e './..[dev]' "
   ]
  },
  {
   "attachments": {},
   "cell_type": "markdown",
   "metadata": {},
   "source": [
    "## How to use\n",
    "\n",
    "Second, we create a minimal example of a phase space portrait of the learning dynamics in a classic social dilemma environment:"
   ]
  },
  {
   "cell_type": "code",
   "execution_count": null,
   "metadata": {},
   "outputs": [
    {
     "ename": "ModuleNotFoundError",
     "evalue": "No module named 'pyCRLD'",
     "output_type": "error",
     "traceback": [
      "\u001b[0;31m---------------------------------------------------------------------------\u001b[0m",
      "\u001b[0;31mModuleNotFoundError\u001b[0m                       Traceback (most recent call last)",
      "Cell \u001b[0;32mIn[3], line 1\u001b[0m\n\u001b[0;32m----> 1\u001b[0m \u001b[39mfrom\u001b[39;00m \u001b[39mpyCRLD\u001b[39;00m\u001b[39m.\u001b[39;00m\u001b[39mAgents\u001b[39;00m\u001b[39m.\u001b[39;00m\u001b[39mStrategyActorCritic\u001b[39;00m \u001b[39mimport\u001b[39;00m stratAC\n\u001b[1;32m      2\u001b[0m \u001b[39mfrom\u001b[39;00m \u001b[39mpyCRLD\u001b[39;00m\u001b[39m.\u001b[39;00m\u001b[39mEnvironments\u001b[39;00m\u001b[39m.\u001b[39;00m\u001b[39mSocialDilemma\u001b[39;00m \u001b[39mimport\u001b[39;00m SocialDilemma\n\u001b[1;32m      3\u001b[0m \u001b[39mfrom\u001b[39;00m \u001b[39mpyCRLD\u001b[39;00m\u001b[39m.\u001b[39;00m\u001b[39mUtils\u001b[39;00m \u001b[39mimport\u001b[39;00m FlowPlot \u001b[39mas\u001b[39;00m fp\n",
      "\u001b[0;31mModuleNotFoundError\u001b[0m: No module named 'pyCRLD'"
     ]
    }
   ],
   "source": [
    "from pyCRLD.Agents.StrategyActorCritic import stratAC\n",
    "from pyCRLD.Environments.SocialDilemma import SocialDilemma\n",
    "from pyCRLD.Utils import FlowPlot as fp\n",
    "\n",
    "import numpy as np\n",
    "import matplotlib.pyplot as plt\n",
    "\n",
    "# Init enviornment and MultiAgentEnvironment-interface\n",
    "env = SocialDilemma(R=1.0, T=0.8, S=-0.5, P=0.0)\n",
    "mae = stratAC(env=env, learning_rates=0.1, discount_factors=0.9)\n",
    "\n",
    "# Compute learning trajectory \n",
    "x = mae.random_softmax_strategy()  # from a random inital policy\n",
    "xtraj, fixedpointreached = mae.trajectory(x)\n",
    "\n",
    "# PLOT\n",
    "fig, axs = plt.subplots(1,2, figsize=(9,4))\n",
    "plt.subplots_adjust(wspace=0.3)\n",
    "\n",
    "# Plot in phase space\n",
    "x = ([0], [0], [0])\n",
    "y = ([1], [0], [0])\n",
    "ax = fp.plot_strategy_flow(mae, x, y, flowarrow_points = np.linspace(0.01 ,0.99, 9), axes=[axs[0]])\n",
    "fp.plot_trajectories([xtraj], x, y, cols=['purple'], axes=ax);\n",
    "ax[0].set_xlabel(\"Agent 0's cooperation probability\")\n",
    "ax[0].set_ylabel(\"Agent 1's cooperation probability\");\n",
    "ax[0].set_title(\"Flowplot\")\n",
    "\n",
    "# Plot in trajectory\n",
    "axs[1].plot(xtraj[:, 0, 0, 0], label=\"Agent 0\", c='red')\n",
    "axs[1].plot(xtraj[:, 1, 0, 0], label=\"Agent 1\", c='blue')\n",
    "axs[1].set_xlabel('Time steps')\n",
    "axs[1].set_ylabel('Cooperation probability')\n",
    "axs[1].legend()\n",
    "axs[1].set_title(\"Trajectory\");"
   ]
  },
  {
   "attachments": {},
   "cell_type": "markdown",
   "metadata": {},
   "source": [
    "We see how the learning trajectories on the right result from the flow on the left, which suggests that in this environment, mutual cooperation and mutual defection are viable solutions, depending on the initial cooperation levels of both agents."
   ]
  }
 ],
 "metadata": {
  "kernelspec": {
   "display_name": "python3",
   "language": "python",
   "name": "python3"
  }
 },
 "nbformat": 4,
 "nbformat_minor": 4
}
