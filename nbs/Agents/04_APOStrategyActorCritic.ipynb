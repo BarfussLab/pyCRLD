{
 "cells": [
  {
   "cell_type": "markdown",
   "id": "55f652fa-815b-4116-80a9-0b56ea1d0e66",
   "metadata": {},
   "source": [
    "# Strategy Actor-Critic under partial Observability\n",
    "\n",
    "> CRLD actor-critic agents learning under partial observability in strategy space  "
   ]
  },
  {
   "cell_type": "code",
   "execution_count": null,
   "id": "a6015f73-2b7f-411e-8aed-67ece3fd4776",
   "metadata": {},
   "outputs": [],
   "source": [
    "#| default_exp Agents/POStrategyActorCritic"
   ]
  },
  {
   "cell_type": "code",
   "execution_count": null,
   "id": "63b1ced8-6a77-46ad-9e87-7dc67597556e",
   "metadata": {},
   "outputs": [],
   "source": [
    "#| hide\n",
    "# Imports for the nbdev development environment\n",
    "from nbdev.showdoc import *\n",
    "from fastcore.test import *"
   ]
  },
  {
   "cell_type": "code",
   "execution_count": null,
   "id": "79bfa0de-800b-40ac-b9d4-af18fa554c9a",
   "metadata": {},
   "outputs": [],
   "source": [
    "#| hide\n",
    "%load_ext autoreload\n",
    "%autoreload 2"
   ]
  },
  {
   "cell_type": "code",
   "execution_count": null,
   "id": "1d928103-a2e3-4309-9434-00685cac12ea",
   "metadata": {},
   "outputs": [],
   "source": [
    "#| export\n",
    "import jax\n",
    "from jax import jit\n",
    "import jax.numpy as jnp\n",
    "\n",
    "import numpy as np\n",
    "import itertools as it\n",
    "from functools import partial\n",
    "\n",
    "from fastcore.utils import *\n",
    "\n",
    "from pyCRLD.Agents.POStrategyBase import POstrategybase\n",
    "from pyCRLD.Utils.Helpers import *"
   ]
  },
  {
   "cell_type": "code",
   "execution_count": null,
   "id": "7406ee85-86ca-4d79-8c1b-b8ebc411f80a",
   "metadata": {},
   "outputs": [],
   "source": [
    "#| export\n",
    "class POstratAC(POstrategybase):\n",
    "    \"\"\"\n",
    "    Class for\n",
    "    deterministic policy-average independent (multi-agent) partially observable\n",
    "    temporal-difference actor-critic reinforcement learning in policy space.\n",
    "    \"\"\"\n",
    "    \n",
    "    @partial(jit, static_argnums=(0,2))\n",
    "    def TDerror(self, X, norm=False):\n",
    "        \"\"\"\n",
    "        TD error for partially observable policy AC dynamics,\n",
    "        given joint policy X\n",
    "        \"\"\"\n",
    "        Bios = self.fast_Bios(X)  # for speed up\n",
    "        Xisa = self.Xisa(X)  # for speed up\n",
    "        \n",
    "        R = self.Rioa(X, Bios=Bios, Xisa=Xisa)\n",
    "        Vio = self.Vio(X, Bios=Bios, Xisa=Xisa, Rioa=R)\n",
    "        NextV = self.NextVioa(X, Bios=Bios, Xisa=Xisa, Vio=Vio)\n",
    "\n",
    "        n = jnp.newaxis\n",
    "        TDe = self.pre[:,n,n]*R + self.gamma[:,n,n]*NextV - Vio[:,:,n]\n",
    "        TDe *= self.beta[:,n,n]\n",
    "\n",
    "        TDe = TDe - TDe.mean(axis=2, keepdims=True) if norm else TDe\n",
    "        return TDe\n",
    "    \n",
    "    @partial(jit, static_argnums=0)\n",
    "    def NextVioa(self, X, Xisa=None, Bios=None, Vio=None, \n",
    "                 Tioo=None, Rio=None, Rioa=None):       \n",
    "        \"\"\"\n",
    "        Policy-average next value for agent i, current obs o and act a.\n",
    "        \"\"\"\n",
    "        Xisa = self.Xisa(X) if Xisa is None else Xisa\n",
    "        Bios = self.fast_Bios(X) if Bios is None else Bios\n",
    "        Vio = self.Vio(X, Rio=Rio, Tioo=Tioo, Bios=Bios, Xisa=Xisa, Rioa=Rioa)\\\n",
    "            if Vio is None else Vio\n",
    "        \n",
    "        i = 0; a = 1; s = 2; s_ = 3; o = 4; o_ = 5  # next observatio \n",
    "        j2k = list(range(6, 6+self.N-1))  # other agents\n",
    "        b2d = list(range(6+self.N-1, 6+self.N-1 + self.N))  # all actions\n",
    "        e2f = list(range(5+2*self.N, 5+2*self.N + self.N-1))  # all other acts\n",
    "\n",
    "        sumsis = [[j2k[l], s, e2f[l]] for l in range(self.N-1)]  # sum inds\n",
    "        otherY = list(it.chain(*zip((self.N-1)*[Xisa], sumsis)))\n",
    "            \n",
    "        args = [self.Omega, [i]+j2k+[a]+b2d+e2f, Bios, [i, o, s]] + otherY +\\\n",
    "               [self.T, [s]+b2d+[s_], self.O, [i, s_, o_], \n",
    "                Vio, [i, o_], [i, o, a]]\n",
    "        return jnp.einsum(*args, optimize=self.opti)\n"
   ]
  },
  {
   "cell_type": "code",
   "execution_count": null,
   "id": "99abf6c5-7893-4bb1-98d1-ea696746fd3c",
   "metadata": {},
   "outputs": [
    {
     "data": {
      "text/markdown": [
       "---\n",
       "\n",
       "[source](https://github.com/wbarfuss/pyCRLD/blob/main/pyCRLD/Agents/POStrategyActorCritic.py#L29){target=\"_blank\" style=\"float:right; font-size:smaller\"}\n",
       "\n",
       "### POstratAC.TDerror\n",
       "\n",
       ">      POstratAC.TDerror (X, norm=False)\n",
       "\n",
       "TD error for partially observable policy AC dynamics,\n",
       "given joint policy X"
      ],
      "text/plain": [
       "---\n",
       "\n",
       "[source](https://github.com/wbarfuss/pyCRLD/blob/main/pyCRLD/Agents/POStrategyActorCritic.py#L29){target=\"_blank\" style=\"float:right; font-size:smaller\"}\n",
       "\n",
       "### POstratAC.TDerror\n",
       "\n",
       ">      POstratAC.TDerror (X, norm=False)\n",
       "\n",
       "TD error for partially observable policy AC dynamics,\n",
       "given joint policy X"
      ]
     },
     "execution_count": null,
     "metadata": {},
     "output_type": "execute_result"
    }
   ],
   "source": [
    "show_doc(POstratAC.TDerror)"
   ]
  },
  {
   "cell_type": "code",
   "execution_count": null,
   "id": "d474ec90-5d60-4ae0-ad13-90fe813afb4a",
   "metadata": {},
   "outputs": [
    {
     "data": {
      "text/markdown": [
       "---\n",
       "\n",
       "[source](https://github.com/wbarfuss/pyCRLD/blob/main/pyCRLD/Agents/POStrategyActorCritic.py#L49){target=\"_blank\" style=\"float:right; font-size:smaller\"}\n",
       "\n",
       "### POstratAC.NextVioa\n",
       "\n",
       ">      POstratAC.NextVioa (X, Xisa=None, Bios=None, Vio=None, Tioo=None,\n",
       ">                          Rio=None, Rioa=None)\n",
       "\n",
       "Policy-average next value for agent i, current obs o and act a."
      ],
      "text/plain": [
       "---\n",
       "\n",
       "[source](https://github.com/wbarfuss/pyCRLD/blob/main/pyCRLD/Agents/POStrategyActorCritic.py#L49){target=\"_blank\" style=\"float:right; font-size:smaller\"}\n",
       "\n",
       "### POstratAC.NextVioa\n",
       "\n",
       ">      POstratAC.NextVioa (X, Xisa=None, Bios=None, Vio=None, Tioo=None,\n",
       ">                          Rio=None, Rioa=None)\n",
       "\n",
       "Policy-average next value for agent i, current obs o and act a."
      ]
     },
     "execution_count": null,
     "metadata": {},
     "output_type": "execute_result"
    }
   ],
   "source": [
    "show_doc(POstratAC.NextVioa)"
   ]
  },
  {
   "cell_type": "code",
   "execution_count": null,
   "id": "f77fa433-4cba-439b-9187-809e039c7432",
   "metadata": {},
   "outputs": [],
   "source": [
    "#| hide\n",
    "import nbdev; nbdev.nbdev_export()"
   ]
  }
 ],
 "metadata": {
  "kernelspec": {
   "display_name": "python3",
   "language": "python",
   "name": "python3"
  }
 },
 "nbformat": 4,
 "nbformat_minor": 5
}
