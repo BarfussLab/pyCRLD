{
 "cells": [
  {
   "attachments": {},
   "cell_type": "markdown",
   "id": "6bb6e51f-dfd0-44fa-a702-96a08301e3e7",
   "metadata": {},
   "source": [
    "# Multiple Observation SocialDilemma\n",
    "\n",
    "> Class for a symmetric two-agent stateless social dilemma environment"
   ]
  },
  {
   "attachments": {},
   "cell_type": "markdown",
   "id": "7d0a000c",
   "metadata": {},
   "source": [
    "Typical examples are the *Prisoner's Dilemma*, *Stag Hunt* game, and the game of *chicken*/*snowdrift*/*hawk-dove*."
   ]
  },
  {
   "cell_type": "code",
   "execution_count": 1,
   "id": "42f03146-1f02-4bd7-bc5a-9774aafca256",
   "metadata": {},
   "outputs": [],
   "source": [
    "#| default_exp Environments/MultipleObsSocialDilemma"
   ]
  },
  {
   "cell_type": "code",
   "execution_count": 2,
   "id": "db70985a-597d-4465-8383-40d7a84503fc",
   "metadata": {},
   "outputs": [],
   "source": [
    "#| hide\n",
    "# Imports for the nbdev development environment\n",
    "from nbdev.showdoc import *"
   ]
  },
  {
   "cell_type": "code",
   "execution_count": 3,
   "id": "17cbff78-3063-4406-88aa-d03ac35f0539",
   "metadata": {},
   "outputs": [],
   "source": [
    "#| hide\n",
    "%load_ext autoreload\n",
    "%autoreload 2"
   ]
  },
  {
   "cell_type": "code",
   "execution_count": 4,
   "id": "4f510399-524c-4756-bfc9-d791de43ab18",
   "metadata": {},
   "outputs": [],
   "source": [
    "#| export\n",
    "from pyCRLD.Environments.Base import ebase\n",
    "\n",
    "from fastcore.utils import *\n",
    "from fastcore.test import *\n",
    "\n",
    "from pyCRLD.Environments.MultipleObservationsEnv import MultipleObservationsEnv\n",
    "\n",
    "import numpy as np"
   ]
  },
  {
   "cell_type": "code",
   "execution_count": 5,
   "id": "9446dc68-1fb3-4e54-8425-65da84ebfcaa",
   "metadata": {},
   "outputs": [],
   "source": [
    "#| export\n",
    "class MultipleObsSocialDilemma(MultipleObservationsEnv):\n",
    "    \"\"\"\n",
    "    Symmetric 2-agent 2-action Social Dilemma Matrix Game.\n",
    "    \"\"\" \n",
    "\n",
    "    def __init__(self,\n",
    "                 reward:float,  # reward of mutual cooperation\n",
    "                 temptation:float,  # temptation of unilateral defection \n",
    "                 suckers_payoff:float,  # sucker's payoff of unilateral cooperation\n",
    "                 punishment:float): # punsihment of mutual defection\n",
    "\n",
    "\n",
    "        self.reward = reward\n",
    "        self.temptation = temptation\n",
    "        self.suckers_payoff = suckers_payoff\n",
    "        self.punishment = punishment\n",
    "\n",
    "        # TODO: these variables are expected to be already initialized in the parent class\n",
    "        # causing a recursive calling and causing the dependency on them to fail\n",
    "        # therefore we need to initialize them here\n",
    "        self.n_agents = 2\n",
    "        self.n_agent_actions = 2\n",
    "        self.n_states = 1\n",
    "\n",
    "        self.state = 0 # inital state\n",
    "        super().__init__()"
   ]
  },
  {
   "cell_type": "code",
   "execution_count": 6,
   "id": "807ce783-63e5-402d-bb92-f42fea047254",
   "metadata": {},
   "outputs": [],
   "source": [
    "#| export\n",
    "@patch\n",
    "def transition_tensor(self:MultipleObsSocialDilemma):\n",
    "    \"\"\"Calculate the Transition Tensor\"\"\"\n",
    "    return np.ones((self.n_states, self.n_agent_actions, self.n_agent_actions, self.n_states))\n",
    "\n",
    "@patch\n",
    "def reward_tensor(self:MultipleObsSocialDilemma):\n",
    "    \"\"\"Get the Reward Tensor R[i,s,a1,...,aN,s'].\"\"\"\n",
    "\n",
    "    R = np.zeros((2, self.n_states, 2, 2, self.n_states))\n",
    "\n",
    "    R[0, 0, :, :, 0] = [[self.reward , self.suckers_payoff],\n",
    "                        [self.temptation , self.punishment]]\n",
    "    R[1, 0, :, :, 0] = [[self.reward , self.temptation],\n",
    "                        [self.suckers_payoff , self.punishment]]\n",
    "    return R\n",
    "\n",
    "@patch\n",
    "def actions(self:MultipleObsSocialDilemma):\n",
    "    \"\"\"The action sets\"\"\"\n",
    "    return [['c', 'd'] for _ in range(self.n_agents)]\n",
    "\n",
    "@patch\n",
    "def states(self:MultipleObsSocialDilemma):\n",
    "    \"\"\"The states set\"\"\"\n",
    "    return ['.'] \n",
    "\n",
    "@patch\n",
    "def id(self:MultipleObsSocialDilemma):\n",
    "    \"\"\"\n",
    "    Returns id string of environment\n",
    "    \"\"\"\n",
    "    # Default\n",
    "    id = f\"{self.__class__.__name__}_\"+\\\n",
    "        f\"{self.temptation}_{self.reward}_{self.punishment}_{self.suckers_payoff}\"\n",
    "    return id"
   ]
  },
  {
   "attachments": {},
   "cell_type": "markdown",
   "id": "28318b34-87e7-4ffd-855d-e4a51df05776",
   "metadata": {},
   "source": [
    "### Example"
   ]
  },
  {
   "cell_type": "code",
   "execution_count": 7,
   "id": "109c733b-56e5-41fd-83ea-f314b0f6096e",
   "metadata": {},
   "outputs": [],
   "source": [
    "env = MultipleObsSocialDilemma(reward=1, temptation=2, suckers_payoff=-1, punishment=0)"
   ]
  },
  {
   "cell_type": "code",
   "execution_count": 8,
   "id": "76c083e0-34ba-4b10-a90a-81b4c1882efe",
   "metadata": {},
   "outputs": [
    {
     "data": {
      "text/plain": [
       "'MultipleObsSocialDilemma_2_1_0_-1'"
      ]
     },
     "execution_count": 8,
     "metadata": {},
     "output_type": "execute_result"
    }
   ],
   "source": [
    "env.id()"
   ]
  },
  {
   "cell_type": "code",
   "execution_count": 9,
   "id": "33907857-6529-4e4b-a187-372fec1f0f20",
   "metadata": {},
   "outputs": [
    {
     "data": {
      "text/plain": [
       "MultipleObsSocialDilemma_2_1_0_-1"
      ]
     },
     "execution_count": 9,
     "metadata": {},
     "output_type": "execute_result"
    }
   ],
   "source": [
    "env"
   ]
  },
  {
   "attachments": {},
   "cell_type": "markdown",
   "id": "98c77ec9-94ab-4657-9845-d3db3bbc1385",
   "metadata": {},
   "source": [
    "Reward matrix of agent `0`:"
   ]
  },
  {
   "cell_type": "code",
   "execution_count": 10,
   "id": "0a1ed94e-1b4f-438f-8ac3-43ad63bdb448",
   "metadata": {},
   "outputs": [
    {
     "data": {
      "text/plain": [
       "array([[ 1., -1.],\n",
       "       [ 2.,  0.]])"
      ]
     },
     "execution_count": 10,
     "metadata": {},
     "output_type": "execute_result"
    }
   ],
   "source": [
    "env.reward_tensor()[0,0,:,:,0]"
   ]
  },
  {
   "attachments": {},
   "cell_type": "markdown",
   "id": "f61edf43-9f60-475c-9a05-80804a90ba1d",
   "metadata": {},
   "source": [
    "Reward matrix of agent `1`:"
   ]
  },
  {
   "cell_type": "code",
   "execution_count": 11,
   "id": "1c147d7a-70c3-406c-87e1-1f1632a11696",
   "metadata": {},
   "outputs": [
    {
     "data": {
      "text/plain": [
       "array([[ 1.,  2.],\n",
       "       [-1.,  0.]])"
      ]
     },
     "execution_count": 11,
     "metadata": {},
     "output_type": "execute_result"
    }
   ],
   "source": [
    "env.reward_tensor()[1,0,:,:,0]"
   ]
  },
  {
   "cell_type": "code",
   "execution_count": 12,
   "id": "a4563fee-731f-4671-86db-dd4fe3fa0159",
   "metadata": {},
   "outputs": [
    {
     "data": {
      "text/plain": [
       "array([[[[1.],\n",
       "         [1.]],\n",
       "\n",
       "        [[1.],\n",
       "         [1.]]]])"
      ]
     },
     "execution_count": 12,
     "metadata": {},
     "output_type": "execute_result"
    }
   ],
   "source": [
    "env.transition_tensor()"
   ]
  },
  {
   "cell_type": "code",
   "execution_count": 13,
   "id": "cdb83f09-1bf5-49bf-badb-b74d5daf7344",
   "metadata": {},
   "outputs": [
    {
     "data": {
      "text/plain": [
       "[['c', 'd'], ['c', 'd']]"
      ]
     },
     "execution_count": 13,
     "metadata": {},
     "output_type": "execute_result"
    }
   ],
   "source": [
    "env.actions()"
   ]
  },
  {
   "cell_type": "code",
   "execution_count": 14,
   "id": "f122f972-6d78-420e-ad3e-c3bebcba2458",
   "metadata": {},
   "outputs": [
    {
     "data": {
      "text/plain": [
       "['.']"
      ]
     },
     "execution_count": 14,
     "metadata": {},
     "output_type": "execute_result"
    }
   ],
   "source": [
    "env.states()"
   ]
  },
  {
   "cell_type": "code",
   "execution_count": 15,
   "id": "c8993c16-00c7-42e7-9950-148ab7e922d9",
   "metadata": {},
   "outputs": [],
   "source": [
    "#| hide\n",
    "import nbdev; nbdev.nbdev_export()"
   ]
  },
  {
   "cell_type": "code",
   "execution_count": null,
   "id": "af7ed785-272b-4b27-89d4-7e8066ff6da8",
   "metadata": {},
   "outputs": [],
   "source": []
  }
 ],
 "metadata": {
  "kernelspec": {
   "display_name": "Python 3 (ipykernel)",
   "language": "python",
   "name": "python3"
  },
  "language_info": {
   "codemirror_mode": {
    "name": "ipython",
    "version": 3
   },
   "file_extension": ".py",
   "mimetype": "text/x-python",
   "name": "python",
   "nbconvert_exporter": "python",
   "pygments_lexer": "ipython3",
   "version": "3.10.3"
  }
 },
 "nbformat": 4,
 "nbformat_minor": 5
}
