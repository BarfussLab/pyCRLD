{
 "cells": [
  {
   "attachments": {},
   "cell_type": "markdown",
   "id": "6bb6e51f-dfd0-44fa-a702-96a08301e3e7",
   "metadata": {},
   "source": [
    "# Multiple Observation SocialDilemma\n",
    "\n",
    "> Class for a symmetric two-agent stateless social dilemma environment"
   ]
  },
  {
   "attachments": {},
   "cell_type": "markdown",
   "id": "7d0a000c",
   "metadata": {},
   "source": [
    "Typical examples are the *Prisoner's Dilemma*, *Stag Hunt* game, and the game of *chicken*/*snowdrift*/*hawk-dove*."
   ]
  },
  {
   "cell_type": "code",
   "execution_count": 1,
   "id": "42f03146-1f02-4bd7-bc5a-9774aafca256",
   "metadata": {},
   "outputs": [],
   "source": [
    "#| default_exp Environments/MultipleObsSocialDilemma"
   ]
  },
  {
   "cell_type": "code",
   "execution_count": 2,
   "id": "db70985a-597d-4465-8383-40d7a84503fc",
   "metadata": {},
   "outputs": [],
   "source": [
    "#| hide\n",
    "# Imports for the nbdev development environment\n",
    "from nbdev.showdoc import *"
   ]
  },
  {
   "cell_type": "code",
   "execution_count": 3,
   "id": "17cbff78-3063-4406-88aa-d03ac35f0539",
   "metadata": {},
   "outputs": [],
   "source": [
    "#| hide\n",
    "%load_ext autoreload\n",
    "%autoreload 2"
   ]
  },
  {
   "cell_type": "code",
   "execution_count": 4,
   "id": "4f510399-524c-4756-bfc9-d791de43ab18",
   "metadata": {},
   "outputs": [],
   "source": [
    "#| export\n",
    "from pyCRLD.Environments.Base import ebase\n",
    "\n",
    "from fastcore.utils import *\n",
    "from fastcore.test import *\n",
    "\n",
    "from pyCRLD.Environments.HeterogeneousObservationsEnv import HeterogeneousObservationsEnv\n",
    "\n",
    "import numpy as np"
   ]
  },
  {
   "cell_type": "code",
   "execution_count": 5,
   "id": "9446dc68-1fb3-4e54-8425-65da84ebfcaa",
   "metadata": {},
   "outputs": [],
   "source": [
    "#| export\n",
    "class MultipleObsSocialDilemma(HeterogeneousObservationsEnv):\n",
    "    \"\"\"\n",
    "    Symmetric 2-agent 2-action Social Dilemma Matrix Game.\n",
    "    \"\"\"\n",
    "    def __init__(self,\n",
    "                 rewards, # reward of mutual cooperation\n",
    "                 temptations, # temptation of unilateral defection\n",
    "                 suckers_payoffs, # sucker's payoff of unilateral cooperation\n",
    "                 punishments, # punishment of mutual defection\n",
    "                 contract_probability = 0.5, # probability for contract\n",
    "                 observation_opacity=None): # partial or full observability\n",
    "\n",
    "        # Validate each attribute to ensure it is either an integer or a list of two integers\n",
    "        def validate_attribute(attribute):\n",
    "            if isinstance(attribute, list) and len(attribute) == 2:\n",
    "                return attribute\n",
    "            elif isinstance(attribute, int):\n",
    "                print('size of attr list', attribute)\n",
    "                return [attribute]\n",
    "            else:\n",
    "                raise ValueError(\"Attribute must be a single integer or a list of two integers.\")\n",
    "        \n",
    "        # Applying the validation to each attribute\n",
    "        self.rewards = validate_attribute(rewards)\n",
    "        self.temptations = validate_attribute(temptations)\n",
    "        self.suckers_payoffs = validate_attribute(suckers_payoffs)\n",
    "        self.punishments = validate_attribute(punishments)\n",
    "\n",
    "        # TODO: these variables are expected to be already initialized in the parent class\n",
    "        # causing a recursive calling and causing the dependency on them to fail\n",
    "        # therefore we need to initialize them here\n",
    "        self.n_agents = 2\n",
    "        self.n_agent_actions = 2\n",
    "        self.n_states = len(self.rewards)\n",
    "        \n",
    "        self.observation_opacity = observation_opacity\n",
    "        # This adds a dynamic aspect to the game where the outcome can also depend on the evolving \n",
    "        # relationship state (contract or no contract).\n",
    "        # A state can be either contracted or not, or have the default state '.'. The contract indicate whether\n",
    "        # there is an agreement or alignment between the agents, which could influence their strategic decisions.\n",
    "        self.contract_probability = contract_probability  # probability for contract\n",
    "        self.state = 0 # initial state\n",
    "        \n",
    "        super(MultipleObsSocialDilemma, self).__init__(observation_opacity=observation_opacity)"
   ]
  },
  {
   "cell_type": "code",
   "execution_count": 6,
   "id": "807ce783-63e5-402d-bb92-f42fea047254",
   "metadata": {},
   "outputs": [],
   "source": [
    "#| export\n",
    "@patch\n",
    "def transition_tensor(self:MultipleObsSocialDilemma):\n",
    "    \"\"\"Calculate the Transition Tensor\"\"\"\n",
    "    if self.n_states == 1:\n",
    "        print('🌸')\n",
    "        Tsas = np.ones((self.n_states, self.n_agent_actions, self.n_agent_actions, self.n_states))\n",
    "    # Case for contract/no-contract states\n",
    "    else:\n",
    "        print('☀️')\n",
    "        Tsas = np.ones((self.n_states, self.n_agent_actions, self.n_agent_actions, self.n_states)) * (-1)\n",
    "        Tsas[:, :, :, 0] = 1 - self.contract_probability\n",
    "        Tsas[:, :, :, 1] = self.contract_probability\n",
    "    return Tsas\n",
    "\n",
    "@patch\n",
    "def reward_tensor(self:MultipleObsSocialDilemma):\n",
    "    \"\"\"Get the Reward Tensor R[i,s,a1,...,aN,s'].\"\"\"\n",
    "\n",
    "    R = np.zeros((self.n_agents, self.n_states, self.n_agent_actions, self.n_agent_actions, self.n_states))\n",
    "\n",
    "    if self.n_states == 1:\n",
    "        R[0, 0, :, :, 0] = [[self.rewards[0], self.suckers_payoffs[0]],\n",
    "                            [self.temptations[0], self.punishments[0]]]\n",
    "        R[1, 0, :, :, 0] = [[self.rewards[0], self.temptations[0]],\n",
    "                            [self.suckers_payoffs[0], self.punishments[0]]]\n",
    "    else:\n",
    "        # set reward matrix for agents in first (no-contract) state\n",
    "        R[0, 0, :, :, 0] = [[self.rewards[0], self.suckers_payoffs[0]],\n",
    "                            [self.temptations[0], self.punishments[0]]]\n",
    "        R[1, 0, :, :, 0] = [[self.rewards[0], self.temptations[0]],\n",
    "                            [self.suckers_payoffs[0], self.punishments[0]]]\n",
    "        R[:, 0, :, :, 1] = R[:, 0, :, :, 0]\n",
    "    \n",
    "        # set reward matrix for agents the second (contract) state\n",
    "        R[0, 1, :, :, 1] = [[self.rewards[1], self.suckers_payoffs[1]],\n",
    "                            [self.temptations[1], self.punishments[1]]]\n",
    "        R[1, 1, :, :, 1] = [[self.rewards[1], self.temptations[1]],\n",
    "                            [self.suckers_payoffs[1], self.punishments[1]]]\n",
    "        R[:, 1, :, :, 0] = R[:, 1, :, :, 1]\n",
    "        \n",
    "    return R\n",
    "\n",
    "\n",
    "@patch\n",
    "def actions(self:MultipleObsSocialDilemma):\n",
    "    \"\"\"The action sets\"\"\"\n",
    "    return [['c', 'd'] for _ in range(self.n_agents)]\n",
    "\n",
    "@patch\n",
    "def states(self:MultipleObsSocialDilemma):\n",
    "    \"\"\"The states set\"\"\"\n",
    "    # Check whether the game has 2 rewards, this is equivalent of checking any of the\n",
    "    # other game values and equivalent to checking if the number of states should be 2\n",
    "    if self.n_states == 2:\n",
    "        print(\"contract 2 states\")\n",
    "        return [0, 1], [\"no contract\", \"contract\"]\n",
    "    # Otherwise we default to the unique IPD state\n",
    "    else:\n",
    "        return ['.']\n",
    "\n",
    "@patch\n",
    "def id(self:MultipleObsSocialDilemma):\n",
    "    \"\"\"\n",
    "    Returns id string of environment\n",
    "    \"\"\"\n",
    "    # Default\n",
    "    id = f\"{self.__class__.__name__}_\"+\\\n",
    "        f\"{self.temptations}_{self.rewards}_{self.punishments}_{self.suckers_payoffs}\"\n",
    "    return id"
   ]
  },
  {
   "cell_type": "code",
   "execution_count": 7,
   "id": "b2b3dfab-e2a8-4098-ad00-b9cf4710ba3e",
   "metadata": {},
   "outputs": [
    {
     "ename": "ValueError",
     "evalue": "source code string cannot contain null bytes",
     "output_type": "error",
     "traceback": [
      "\u001b[0;31m---------------------------------------------------------------------------\u001b[0m",
      "\u001b[0;31mValueError\u001b[0m                                Traceback (most recent call last)",
      "Cell \u001b[0;32mIn[7], line 2\u001b[0m\n\u001b[1;32m      1\u001b[0m \u001b[38;5;66;03m#| hide\u001b[39;00m\n\u001b[0;32m----> 2\u001b[0m \u001b[38;5;28;01mimport\u001b[39;00m \u001b[38;5;21;01mnbdev\u001b[39;00m; \u001b[43mnbdev\u001b[49m\u001b[38;5;241;43m.\u001b[39;49m\u001b[43mnbdev_export\u001b[49m\u001b[43m(\u001b[49m\u001b[43m)\u001b[49m\n",
      "File \u001b[0;32m~/.pyenv/versions/3.10.3/lib/python3.10/site-packages/fastcore/script.py:110\u001b[0m, in \u001b[0;36mcall_parse.<locals>._f\u001b[0;34m(*args, **kwargs)\u001b[0m\n\u001b[1;32m    107\u001b[0m \u001b[38;5;129m@wraps\u001b[39m(func)\n\u001b[1;32m    108\u001b[0m \u001b[38;5;28;01mdef\u001b[39;00m \u001b[38;5;21m_f\u001b[39m(\u001b[38;5;241m*\u001b[39margs, \u001b[38;5;241m*\u001b[39m\u001b[38;5;241m*\u001b[39mkwargs):\n\u001b[1;32m    109\u001b[0m     mod \u001b[38;5;241m=\u001b[39m inspect\u001b[38;5;241m.\u001b[39mgetmodule(inspect\u001b[38;5;241m.\u001b[39mcurrentframe()\u001b[38;5;241m.\u001b[39mf_back)\n\u001b[0;32m--> 110\u001b[0m     \u001b[38;5;28;01mif\u001b[39;00m \u001b[38;5;129;01mnot\u001b[39;00m mod: \u001b[38;5;28;01mreturn\u001b[39;00m \u001b[43mfunc\u001b[49m\u001b[43m(\u001b[49m\u001b[38;5;241;43m*\u001b[39;49m\u001b[43margs\u001b[49m\u001b[43m,\u001b[49m\u001b[43m \u001b[49m\u001b[38;5;241;43m*\u001b[39;49m\u001b[38;5;241;43m*\u001b[39;49m\u001b[43mkwargs\u001b[49m\u001b[43m)\u001b[49m\n\u001b[1;32m    111\u001b[0m     \u001b[38;5;28;01mif\u001b[39;00m \u001b[38;5;129;01mnot\u001b[39;00m SCRIPT_INFO\u001b[38;5;241m.\u001b[39mfunc \u001b[38;5;129;01mand\u001b[39;00m mod\u001b[38;5;241m.\u001b[39m\u001b[38;5;18m__name__\u001b[39m\u001b[38;5;241m==\u001b[39m\u001b[38;5;124m\"\u001b[39m\u001b[38;5;124m__main__\u001b[39m\u001b[38;5;124m\"\u001b[39m: SCRIPT_INFO\u001b[38;5;241m.\u001b[39mfunc \u001b[38;5;241m=\u001b[39m func\u001b[38;5;241m.\u001b[39m\u001b[38;5;18m__name__\u001b[39m\n\u001b[1;32m    112\u001b[0m     \u001b[38;5;28;01mif\u001b[39;00m \u001b[38;5;28mlen\u001b[39m(sys\u001b[38;5;241m.\u001b[39margv)\u001b[38;5;241m>\u001b[39m\u001b[38;5;241m1\u001b[39m \u001b[38;5;129;01mand\u001b[39;00m sys\u001b[38;5;241m.\u001b[39margv[\u001b[38;5;241m1\u001b[39m]\u001b[38;5;241m==\u001b[39m\u001b[38;5;124m'\u001b[39m\u001b[38;5;124m'\u001b[39m: sys\u001b[38;5;241m.\u001b[39margv\u001b[38;5;241m.\u001b[39mpop(\u001b[38;5;241m1\u001b[39m)\n",
      "File \u001b[0;32m~/.pyenv/versions/3.10.3/lib/python3.10/site-packages/nbdev/doclinks.py:142\u001b[0m, in \u001b[0;36mnbdev_export\u001b[0;34m(path, procs, **kwargs)\u001b[0m\n\u001b[1;32m    140\u001b[0m   procs \u001b[38;5;241m=\u001b[39m [\u001b[38;5;28mgetattr\u001b[39m(nbdev\u001b[38;5;241m.\u001b[39mexport, p) \u001b[38;5;28;01mfor\u001b[39;00m p \u001b[38;5;129;01min\u001b[39;00m L(procs)]\n\u001b[1;32m    141\u001b[0m files \u001b[38;5;241m=\u001b[39m nbglob(path\u001b[38;5;241m=\u001b[39mpath, as_path\u001b[38;5;241m=\u001b[39m\u001b[38;5;28;01mTrue\u001b[39;00m, \u001b[38;5;241m*\u001b[39m\u001b[38;5;241m*\u001b[39mkwargs)\u001b[38;5;241m.\u001b[39msorted(\u001b[38;5;124m'\u001b[39m\u001b[38;5;124mname\u001b[39m\u001b[38;5;124m'\u001b[39m)\n\u001b[0;32m--> 142\u001b[0m \u001b[38;5;28;01mfor\u001b[39;00m f \u001b[38;5;129;01min\u001b[39;00m files: \u001b[43mnb_export\u001b[49m\u001b[43m(\u001b[49m\u001b[43mf\u001b[49m\u001b[43m,\u001b[49m\u001b[43m \u001b[49m\u001b[43mprocs\u001b[49m\u001b[38;5;241;43m=\u001b[39;49m\u001b[43mprocs\u001b[49m\u001b[43m)\u001b[49m\n\u001b[1;32m    143\u001b[0m add_init(get_config()\u001b[38;5;241m.\u001b[39mlib_path)\n\u001b[1;32m    144\u001b[0m _build_modidx()\n",
      "File \u001b[0;32m~/.pyenv/versions/3.10.3/lib/python3.10/site-packages/nbdev/export.py:78\u001b[0m, in \u001b[0;36mnb_export\u001b[0;34m(nbname, lib_path, procs, debug, mod_maker, name)\u001b[0m\n\u001b[1;32m     76\u001b[0m     \u001b[38;5;28;01mreturn\u001b[39;00m\n\u001b[1;32m     77\u001b[0m mm \u001b[38;5;241m=\u001b[39m mod_maker(dest\u001b[38;5;241m=\u001b[39mlib_path, name\u001b[38;5;241m=\u001b[39mnm, nb_path\u001b[38;5;241m=\u001b[39mnbname, is_new\u001b[38;5;241m=\u001b[39m\u001b[38;5;28mbool\u001b[39m(name) \u001b[38;5;129;01mor\u001b[39;00m mod\u001b[38;5;241m==\u001b[39m\u001b[38;5;124m'\u001b[39m\u001b[38;5;124m#\u001b[39m\u001b[38;5;124m'\u001b[39m)\n\u001b[0;32m---> 78\u001b[0m \u001b[43mmm\u001b[49m\u001b[38;5;241;43m.\u001b[39;49m\u001b[43mmake\u001b[49m\u001b[43m(\u001b[49m\u001b[43mcells\u001b[49m\u001b[43m,\u001b[49m\u001b[43m \u001b[49m\u001b[43mall_cells\u001b[49m\u001b[43m,\u001b[49m\u001b[43m \u001b[49m\u001b[43mlib_path\u001b[49m\u001b[38;5;241;43m=\u001b[39;49m\u001b[43mlib_path\u001b[49m\u001b[43m)\u001b[49m\n",
      "File \u001b[0;32m~/.pyenv/versions/3.10.3/lib/python3.10/site-packages/nbdev/maker.py:195\u001b[0m, in \u001b[0;36mmake\u001b[0;34m(self, cells, all_cells, lib_path)\u001b[0m\n\u001b[1;32m    193\u001b[0m     \u001b[38;5;28;01mif\u001b[39;00m \u001b[38;5;129;01mnot\u001b[39;00m lib_path: lib_path \u001b[38;5;241m=\u001b[39m get_config()\u001b[38;5;241m.\u001b[39mlib_path\n\u001b[1;32m    194\u001b[0m     mod_dir \u001b[38;5;241m=\u001b[39m os\u001b[38;5;241m.\u001b[39mpath\u001b[38;5;241m.\u001b[39mrelpath(\u001b[38;5;28mself\u001b[39m\u001b[38;5;241m.\u001b[39mfname\u001b[38;5;241m.\u001b[39mparent, Path(lib_path)\u001b[38;5;241m.\u001b[39mparent)\n\u001b[0;32m--> 195\u001b[0m     \u001b[43m_import2relative\u001b[49m\u001b[43m(\u001b[49m\u001b[43mall_cells\u001b[49m\u001b[43m,\u001b[49m\u001b[43m \u001b[49m\u001b[43mmod_dir\u001b[49m\u001b[43m)\u001b[49m\n\u001b[1;32m    196\u001b[0m \u001b[38;5;28;01mif\u001b[39;00m \u001b[38;5;129;01mnot\u001b[39;00m \u001b[38;5;28mself\u001b[39m\u001b[38;5;241m.\u001b[39mis_new: \u001b[38;5;28;01mreturn\u001b[39;00m \u001b[38;5;28mself\u001b[39m\u001b[38;5;241m.\u001b[39m_make_exists(cells, all_cells)\n\u001b[1;32m    198\u001b[0m \u001b[38;5;28mself\u001b[39m\u001b[38;5;241m.\u001b[39mfname\u001b[38;5;241m.\u001b[39mparent\u001b[38;5;241m.\u001b[39mmkdir(exist_ok\u001b[38;5;241m=\u001b[39m\u001b[38;5;28;01mTrue\u001b[39;00m, parents\u001b[38;5;241m=\u001b[39m\u001b[38;5;28;01mTrue\u001b[39;00m)\n",
      "File \u001b[0;32m~/.pyenv/versions/3.10.3/lib/python3.10/site-packages/nbdev/maker.py:174\u001b[0m, in \u001b[0;36m_import2relative\u001b[0;34m(cells, lib_name)\u001b[0m\n\u001b[1;32m    172\u001b[0m \u001b[38;5;124m\"\u001b[39m\u001b[38;5;124mConverts `cells` to use `import2relative` based on `lib_name`\u001b[39m\u001b[38;5;124m\"\u001b[39m\n\u001b[1;32m    173\u001b[0m \u001b[38;5;28;01mif\u001b[39;00m lib_name \u001b[38;5;129;01mis\u001b[39;00m \u001b[38;5;28;01mNone\u001b[39;00m: lib_name \u001b[38;5;241m=\u001b[39m get_config()\u001b[38;5;241m.\u001b[39mlib_name\n\u001b[0;32m--> 174\u001b[0m \u001b[38;5;28;01mfor\u001b[39;00m cell \u001b[38;5;129;01min\u001b[39;00m cells: \u001b[43mcell\u001b[49m\u001b[38;5;241;43m.\u001b[39;49m\u001b[43mimport2relative\u001b[49m\u001b[43m(\u001b[49m\u001b[43mlib_name\u001b[49m\u001b[43m)\u001b[49m\n",
      "File \u001b[0;32m~/.pyenv/versions/3.10.3/lib/python3.10/site-packages/nbdev/maker.py:158\u001b[0m, in \u001b[0;36mimport2relative\u001b[0;34m(cell, libname)\u001b[0m\n\u001b[1;32m    156\u001b[0m \u001b[38;5;129m@patch\u001b[39m\n\u001b[1;32m    157\u001b[0m \u001b[38;5;28;01mdef\u001b[39;00m \u001b[38;5;21mimport2relative\u001b[39m(cell:NbCell, libname):\n\u001b[0;32m--> 158\u001b[0m     src \u001b[38;5;241m=\u001b[39m update_import(cell\u001b[38;5;241m.\u001b[39msource, \u001b[43mcell\u001b[49m\u001b[38;5;241;43m.\u001b[39;49m\u001b[43mparsed_\u001b[49m\u001b[43m(\u001b[49m\u001b[43m)\u001b[49m, libname)\n\u001b[1;32m    159\u001b[0m     \u001b[38;5;28;01mif\u001b[39;00m src: cell\u001b[38;5;241m.\u001b[39mset_source(src)\n",
      "File \u001b[0;32m~/.pyenv/versions/3.10.3/lib/python3.10/site-packages/execnb/nbio.py:32\u001b[0m, in \u001b[0;36mNbCell.parsed_\u001b[0;34m(self)\u001b[0m\n\u001b[1;32m     30\u001b[0m \u001b[38;5;28;01mif\u001b[39;00m \u001b[38;5;28mself\u001b[39m\u001b[38;5;241m.\u001b[39mcell_type\u001b[38;5;241m!=\u001b[39m\u001b[38;5;124m'\u001b[39m\u001b[38;5;124mcode\u001b[39m\u001b[38;5;124m'\u001b[39m \u001b[38;5;129;01mor\u001b[39;00m \u001b[38;5;28mself\u001b[39m\u001b[38;5;241m.\u001b[39msource\u001b[38;5;241m.\u001b[39mstrip()[:\u001b[38;5;241m1\u001b[39m] \u001b[38;5;129;01min\u001b[39;00m [\u001b[38;5;124m'\u001b[39m\u001b[38;5;124m%\u001b[39m\u001b[38;5;124m'\u001b[39m, \u001b[38;5;124m'\u001b[39m\u001b[38;5;124m!\u001b[39m\u001b[38;5;124m'\u001b[39m]: \u001b[38;5;28;01mreturn\u001b[39;00m\n\u001b[1;32m     31\u001b[0m \u001b[38;5;28;01mif\u001b[39;00m \u001b[38;5;124m'\u001b[39m\u001b[38;5;124m_parsed_\u001b[39m\u001b[38;5;124m'\u001b[39m \u001b[38;5;129;01mnot\u001b[39;00m \u001b[38;5;129;01min\u001b[39;00m \u001b[38;5;28mself\u001b[39m: \n\u001b[0;32m---> 32\u001b[0m     \u001b[38;5;28;01mtry\u001b[39;00m: \u001b[38;5;28mself\u001b[39m\u001b[38;5;241m.\u001b[39m_parsed_ \u001b[38;5;241m=\u001b[39m \u001b[43mast\u001b[49m\u001b[38;5;241;43m.\u001b[39;49m\u001b[43mparse\u001b[49m\u001b[43m(\u001b[49m\u001b[38;5;28;43mself\u001b[39;49m\u001b[38;5;241;43m.\u001b[39;49m\u001b[43msource\u001b[49m\u001b[43m)\u001b[49m\u001b[38;5;241m.\u001b[39mbody\n\u001b[1;32m     33\u001b[0m     \u001b[38;5;66;03m# you can assign the result of ! to a variable in a notebook cell\u001b[39;00m\n\u001b[1;32m     34\u001b[0m     \u001b[38;5;66;03m# which will result in a syntax error if parsed with the ast module.\u001b[39;00m\n\u001b[1;32m     35\u001b[0m     \u001b[38;5;28;01mexcept\u001b[39;00m \u001b[38;5;167;01mSyntaxError\u001b[39;00m: \u001b[38;5;28;01mreturn\u001b[39;00m\n",
      "File \u001b[0;32m~/.pyenv/versions/3.10.3/lib/python3.10/ast.py:50\u001b[0m, in \u001b[0;36mparse\u001b[0;34m(source, filename, mode, type_comments, feature_version)\u001b[0m\n\u001b[1;32m     48\u001b[0m     feature_version \u001b[38;5;241m=\u001b[39m \u001b[38;5;241m-\u001b[39m\u001b[38;5;241m1\u001b[39m\n\u001b[1;32m     49\u001b[0m \u001b[38;5;66;03m# Else it should be an int giving the minor version for 3.x.\u001b[39;00m\n\u001b[0;32m---> 50\u001b[0m \u001b[38;5;28;01mreturn\u001b[39;00m \u001b[38;5;28;43mcompile\u001b[39;49m\u001b[43m(\u001b[49m\u001b[43msource\u001b[49m\u001b[43m,\u001b[49m\u001b[43m \u001b[49m\u001b[43mfilename\u001b[49m\u001b[43m,\u001b[49m\u001b[43m \u001b[49m\u001b[43mmode\u001b[49m\u001b[43m,\u001b[49m\u001b[43m \u001b[49m\u001b[43mflags\u001b[49m\u001b[43m,\u001b[49m\n\u001b[1;32m     51\u001b[0m \u001b[43m               \u001b[49m\u001b[43m_feature_version\u001b[49m\u001b[38;5;241;43m=\u001b[39;49m\u001b[43mfeature_version\u001b[49m\u001b[43m)\u001b[49m\n",
      "\u001b[0;31mValueError\u001b[0m: source code string cannot contain null bytes"
     ]
    }
   ],
   "source": [
    "#| hide\n",
    "import nbdev; nbdev.nbdev_export()"
   ]
  },
  {
   "attachments": {},
   "cell_type": "markdown",
   "id": "28318b34-87e7-4ffd-855d-e4a51df05776",
   "metadata": {},
   "source": [
    "### Example"
   ]
  },
  {
   "cell_type": "code",
   "execution_count": null,
   "id": "109c733b-56e5-41fd-83ea-f314b0f6096e",
   "metadata": {},
   "outputs": [],
   "source": [
    "env_full_obs = MultipleObsSocialDilemma(rewards=1, temptations=2, suckers_payoffs=-1, punishments=0, observation_opacity=[0, 0])\n",
    "\n",
    "# TODO: if opacity = observation_opacity=[0.7, 0])\n",
    "# resulting matrix still is \n",
    "# array([[[0.5, 0.5],\n",
    "#         [0.5, 0.5]],\n",
    "\n",
    "#        [[1. , 0. ],\n",
    "#         [0. , 1. ]]])\n",
    "# but it'd be cool if this is percentage of how much an agent can see back in the past or not\n",
    "# as if it was a percentage... of the amount of things they can see\n",
    "\n",
    "# TODO: there's another problem\n",
    "# if opacity = observation_opacity=[0.2, 0])\n",
    "# the matrix adjusts like this\n",
    "# array([[[0.8, 0.2],\n",
    "#         [0.2, 0.8]],\n",
    "\n",
    "#        [[1. , 0. ],\n",
    "#         [0. , 1. ]]])\n",
    "# However, I've just realized this matrix is not about percentages of probabibilities of seeing\n",
    "# things, but it's the actual seeing. Meaning if they're confused about the environment and have\n",
    "# partial vision they should have 0.5 everywhere. This should be a simple bug to fix I just have to\n",
    "# reset the behavior for when it's smaller than 0.5 to be the same for when it's equal to bigger than\n",
    "# 0.5"
   ]
  },
  {
   "cell_type": "code",
   "execution_count": null,
   "id": "7e268fb4-b988-42ff-929c-a9c20766dcf9",
   "metadata": {},
   "outputs": [],
   "source": [
    "env_full_obs.observations"
   ]
  },
  {
   "cell_type": "code",
   "execution_count": null,
   "id": "1af68318-dfef-4c0f-9258-3c106f5fb4e7",
   "metadata": {},
   "outputs": [],
   "source": [
    "env_full_obs.rewards"
   ]
  },
  {
   "cell_type": "code",
   "execution_count": null,
   "id": "b006f17f-43de-4051-adff-997e7820f31a",
   "metadata": {},
   "outputs": [],
   "source": [
    "env_full_obs.observation_labels"
   ]
  },
  {
   "cell_type": "markdown",
   "id": "b7ce17ac-3cc9-4c17-adaa-9a210e01509d",
   "metadata": {},
   "source": [
    "### Testing MultipleObsSocialDilemma under full homogeneous observability conditions:"
   ]
  },
  {
   "cell_type": "code",
   "execution_count": null,
   "id": "47792efb-d16f-49d6-8d08-8fe7bede1938",
   "metadata": {},
   "outputs": [],
   "source": [
    "from pyCRLD.Agents.POStrategyActorCritic import POstratAC\n",
    "from pyCRLD.Utils import FlowPlot as fp\n",
    "\n",
    "# This code is equivalent to the one under EnvUncertainDilemma\n",
    "env_fullObs = MultipleObsSocialDilemma(rewards=[5, 5], temptations=[6, 2], suckers_payoffs=[-1, -1], punishments=[0, 0], contract_probability=0.5, observation_opacity=[0, 0])\n",
    "mae_fullObs = POstratAC(env=env_fullObs, learning_rates=0.1, discount_factors=0.9)"
   ]
  },
  {
   "cell_type": "code",
   "execution_count": null,
   "id": "67784aa0-0c8b-4698-9926-a294352a1b6f",
   "metadata": {},
   "outputs": [],
   "source": [
    "pc00, pc01, pc10, pc11 = 0.35, 0.35, 0.8, 0.8\n",
    "X = [[[pc00, 1-pc00],     #initial policy to visulize learning trajectory\n",
    "      [pc01, 1-pc01]], \n",
    "     [[pc10, 1-pc10], \n",
    "      [pc11, 1-pc11]]] \n",
    "X = np.array(X)\n",
    "xtraj, fixedpointreached = mae_fullObs.trajectory(X)\n",
    "\n",
    "x = ([0], [0,1], [0])  # Plotting on the x-axis the [0]'s agents probability in both observations [0,1] to cooprate [0]\n",
    "y = ([1], [0,1], [0])  # Plotting on the y-axis the [1]'s agents probability in both observations [0,1] to cooprate [0]\n",
    "ax = fp.plot_strategy_flow(mae_fullObs, x, y, flowarrow_points = np.linspace(0.01 ,0.99, 9), NrRandom=16)\n",
    "fp.plot_trajectories([xtraj], x, y, cols=['purple'], axes=ax)"
   ]
  },
  {
   "cell_type": "markdown",
   "id": "f3da1c65-10ab-44b0-9246-d60dc1967214",
   "metadata": {},
   "source": [
    "### Testing MultipleObsSocialDilemma under partial homogeneous observability conditions:"
   ]
  },
  {
   "cell_type": "code",
   "execution_count": null,
   "id": "aec41b07-27ab-4441-b38a-65efeda73ce0",
   "metadata": {},
   "outputs": [],
   "source": [
    "pc00, pc01, pc10, pc11 = 0.35, 0.35, 0.8, 0.8\n",
    "X = [[[pc00, 1-pc00],     #initial policy to visulize learning trajectory\n",
    "      [pc01, 1-pc01]], \n",
    "     [[pc10, 1-pc10], \n",
    "      [pc11, 1-pc11]]] \n",
    "X = np.array(X)\n",
    "\n",
    "env_randObs = MultipleObsSocialDilemma(rewards=5, temptations=6, suckers_payoffs=-1, punishments=0, contract_probability=0.5, observation_opacity=[1, 1])\n",
    "mae_randObs = POstratAC(env=env_randObs, learning_rates=0.1, discount_factors=0.9)\n",
    "xtraj, fixedpointreached = mae_randObs.trajectory(X)\n",
    "\n",
    "\n",
    "x = ([0], [0], [0])  # Plotting on the x-axis the [0]'s agents probability to cooprate [0]\n",
    "y = ([1], [0], [0])  # Plotting on the y-axis the [1]'s agents probability to cooprate [0]\n",
    "\n",
    "ax = fp.plot_strategy_flow(mae_randObs, x, y, flowarrow_points = np.linspace(0.01 ,0.99, 9), NrRandom=16)\n",
    "fp.plot_trajectories([xtraj], x, y, cols=['purple'], axes=ax)"
   ]
  },
  {
   "cell_type": "code",
   "execution_count": null,
   "id": "7e6e189c-ae39-4edf-9141-68067042381f",
   "metadata": {},
   "outputs": [],
   "source": [
    "env_randObs.O"
   ]
  },
  {
   "cell_type": "markdown",
   "id": "c1b64281-2db9-498e-9249-13671eba7bd2",
   "metadata": {},
   "source": [
    "### Testing MultipleObsSocialDilemma under partial heterogeneous observability conditions:"
   ]
  },
  {
   "cell_type": "code",
   "execution_count": null,
   "id": "8ef927b6-67af-4b40-a661-8370615ffa57",
   "metadata": {},
   "outputs": [],
   "source": [
    "env_partial_hetero_obs = MultipleObsSocialDilemma(rewards=[5, 5], temptations=[6, 2], suckers_payoffs=[-1, -1], punishments=[0, 0], contract_probability=0.5, observation_opacity=[0, 0.5])\n",
    "mae_fullObs = POstratAC(env=env_partial_hetero_obs, learning_rates=0.1, discount_factors=0.9)\n",
    "pc00, pc01, pc10, pc11 = 0.35, 0.35, 0.8, 0.8\n",
    "X = [[[pc00, 1-pc00],     #initial policy to visulize learning trajectory\n",
    "      [pc01, 1-pc01]], \n",
    "     [[pc10, 1-pc10], \n",
    "      [pc11, 1-pc11]]] \n",
    "X = np.array(X)\n",
    "xtraj, fixedpointreached = mae_fullObs.trajectory(X)\n",
    "\n",
    "x = ([0], [0, 1], [0])  # Plotting on the x-axis the [0]'s agents probability in both observations [0,1] to cooprate [0]\n",
    "y = ([1], [0, 1], [0])  # Plotting on the y-axis the [1]'s agents probability in both observations [0,1] to cooprate [0]\n",
    "ax = fp.plot_strategy_flow(mae_fullObs, x, y, flowarrow_points = np.linspace(0.01 ,0.99, 9), NrRandom=16)\n",
    "fp.plot_trajectories([xtraj], x, y, cols=['purple'], axes=ax)"
   ]
  },
  {
   "cell_type": "code",
   "execution_count": null,
   "id": "e0615aa3-815f-40c5-b553-0cdb79979f96",
   "metadata": {},
   "outputs": [],
   "source": [
    "env_partial_hetero_obs.O"
   ]
  },
  {
   "cell_type": "markdown",
   "id": "ec805c58-b408-4ee5-9650-d346388c4231",
   "metadata": {},
   "source": [
    "### Test history with full homogeneous observability history: "
   ]
  },
  {
   "cell_type": "code",
   "execution_count": null,
   "id": "6895a4eb-0f4b-496b-8bf7-b9a911087f60",
   "metadata": {},
   "outputs": [],
   "source": [
    "from pyCRLD.Environments.HistoryEmbedding import HistoryEmbedded, ObsActHistsIx, hOset"
   ]
  },
  {
   "cell_type": "code",
   "execution_count": null,
   "id": "42cb932e-ece2-4b2a-9865-d36e5b6f67c0",
   "metadata": {},
   "outputs": [],
   "source": [
    "env_full_obs_homo = MultipleObsSocialDilemma(rewards=5, temptations=6, suckers_payoffs=-1, punishments=0, contract_probability=0.5, observation_opacity=[1, 1])\n",
    "# env_full_obs_homo.Sset = ['.']\n",
    "memo1pd = HistoryEmbedded(env_full_obs_homo, h=(1,1,1))"
   ]
  },
  {
   "cell_type": "code",
   "execution_count": null,
   "id": "55f58cec-7475-4b43-be41-38444323f15b",
   "metadata": {},
   "outputs": [],
   "source": [
    "env_full_obs_homo.Aset"
   ]
  },
  {
   "cell_type": "code",
   "execution_count": null,
   "id": "1d5fab7c-f51c-4e4c-a970-db915593a202",
   "metadata": {},
   "outputs": [],
   "source": [
    "env_full_obs_homo.Oset"
   ]
  },
  {
   "cell_type": "code",
   "execution_count": null,
   "id": "dab4d59e-6cd0-4aeb-aa50-28c955103f5e",
   "metadata": {},
   "outputs": [],
   "source": [
    "memo1pd.Sset"
   ]
  },
  {
   "cell_type": "code",
   "execution_count": null,
   "id": "bd26db5d-b5a5-4791-8a6d-811a2ae12421",
   "metadata": {},
   "outputs": [],
   "source": [
    "memo1pd.O"
   ]
  },
  {
   "cell_type": "code",
   "execution_count": null,
   "id": "a5fbb597-5f05-4ec0-b340-f69c60702cbc",
   "metadata": {},
   "outputs": [],
   "source": [
    "memo1pd.Oset"
   ]
  },
  {
   "cell_type": "code",
   "execution_count": null,
   "id": "845cf5c1-a7fa-452e-b07d-7005179beff5",
   "metadata": {},
   "outputs": [],
   "source": [
    "ObsActHistsIx(memo1pd, (1,1,1))"
   ]
  },
  {
   "cell_type": "code",
   "execution_count": null,
   "id": "61751ef5-ca93-4181-ab3d-e1fa4d001512",
   "metadata": {},
   "outputs": [],
   "source": [
    "# TODO: pretending I've fixed the issue, the bug is still happening meaning I have to investigate further\n",
    "# The issue is:\n",
    "# The observations sets are being built like this\n",
    "# [['c,c,[1.]|', 'c,d,[1.]|', 'd,c,[1.]|', 'd,d,[1.]|'],\n",
    "# This is likely some problem with the environment and to how I create this set in there\n",
    "\n",
    "# memo1pd.Oset = [['c,c,.|', 'c,d,.|', 'd,c,.|', 'd,d,.|'],\n",
    "#  ['c,c,.|', 'c,d,.|', 'd,c,.|', 'd,d,.|']]"
   ]
  },
  {
   "cell_type": "code",
   "execution_count": null,
   "id": "0135eea5-8344-4e66-8bf3-131a96d1d769",
   "metadata": {},
   "outputs": [],
   "source": [
    "memo1pd.O"
   ]
  },
  {
   "cell_type": "code",
   "execution_count": null,
   "id": "5ed24684-da1c-4fba-8785-f82c3052b898",
   "metadata": {},
   "outputs": [],
   "source": [
    "hOset(memo1pd, (1,1,1))"
   ]
  },
  {
   "cell_type": "code",
   "execution_count": null,
   "id": "2c2f1880-99b2-45b3-a885-9b3f4824ba9a",
   "metadata": {},
   "outputs": [],
   "source": [
    "# mae1 = stratAC(env=memo1pd, learning_rates=0.1, discount_factors=0.9)\n",
    "mae1 = POstratAC(env=memo1pd, learning_rates=0.1, discount_factors=0.9)\n",
    "x = ([0], [0,1,2,3], [0])\n",
    "y = ([1], [0,1,2,3], [0])"
   ]
  },
  {
   "cell_type": "code",
   "execution_count": null,
   "id": "e53b5f1f-f3fe-4c3b-bc90-4174b5e2bbdd",
   "metadata": {},
   "outputs": [],
   "source": [
    "ax = fp.plot_strategy_flow(mae1, x, y, flowarrow_points=np.linspace(0.01 ,0.99, 9), NrRandom=32,\n",
    "                           conds=mae1.env.Sset, verbose=True)\n",
    "\n",
    "# TODO: the number of conditions is wrong due to some mismatch in the hOset method implementation\n",
    "# I need to keep in mind when fixing it that I shouldn't break backward compatibility with AC agents\n",
    "# I need to fix it for POSAC"
   ]
  },
  {
   "cell_type": "markdown",
   "id": "99ec7c49-de5d-4bcd-912a-6da30d032161",
   "metadata": {},
   "source": [
    "### Test history with partial homogeneous observability history: "
   ]
  },
  {
   "cell_type": "code",
   "execution_count": null,
   "id": "ccee8502-c16b-4ed4-827d-db08cecf137e",
   "metadata": {},
   "outputs": [],
   "source": [
    "env_full_obs_homo = MultipleObsSocialDilemma(rewards=1, temptations=1.2, suckers_payoffs=-0.5, punishments=0, contract_probability=0.5, observation_opacity=[1, 0.5])\n",
    "# (R=1.0, T=1.2, S=-0.5, P=0.0)\n",
    "# env_full_obs_homo.Sset = ['.']\n",
    "# memo1pd = HistoryEmbedded(env_full_obs_homo, h=(1,1,1))"
   ]
  },
  {
   "cell_type": "code",
   "execution_count": null,
   "id": "30b6a6e9-351b-40f4-808c-8ae17cd021c7",
   "metadata": {},
   "outputs": [],
   "source": [
    "np.allclose(env_full_obs_homo.O.sum(-1), 1)"
   ]
  },
  {
   "cell_type": "code",
   "execution_count": null,
   "id": "d02b1614-e509-408c-bc57-4898d5ac7fcc",
   "metadata": {},
   "outputs": [],
   "source": [
    "env_full_obs_homo.Sset"
   ]
  },
  {
   "cell_type": "code",
   "execution_count": null,
   "id": "55f8bbbb-db6f-461f-ae0e-10a3baa9f0af",
   "metadata": {},
   "outputs": [],
   "source": [
    "env_full_obs_homo.Oset"
   ]
  },
  {
   "cell_type": "code",
   "execution_count": null,
   "id": "740de39a-be6d-4d11-a63c-134880e67777",
   "metadata": {},
   "outputs": [],
   "source": [
    "env_full_obs_homo.O"
   ]
  },
  {
   "cell_type": "code",
   "execution_count": null,
   "id": "efa8e522-1d61-4b59-a4e4-29bb7845bb7a",
   "metadata": {},
   "outputs": [],
   "source": [
    "memo1pd = HistoryEmbedded(env_full_obs_homo, h=(1,1,1))"
   ]
  },
  {
   "cell_type": "code",
   "execution_count": null,
   "id": "3cc3053c-4e66-4c9e-8d85-b9b9e400868a",
   "metadata": {},
   "outputs": [],
   "source": [
    "memo1pd.Oset"
   ]
  },
  {
   "cell_type": "code",
   "execution_count": null,
   "id": "b27207ee-1302-49e4-bb69-88834b671631",
   "metadata": {},
   "outputs": [],
   "source": [
    "mae1 = POstratAC(env=memo1pd, learning_rates=0.1, discount_factors=0.9)\n",
    "x = ([0], [0,1,2,3], [0])\n",
    "y = ([1], [0,1,2,3], [0])"
   ]
  },
  {
   "cell_type": "code",
   "execution_count": null,
   "id": "9fc37b10-506e-4411-be06-184894a90a04",
   "metadata": {},
   "outputs": [],
   "source": [
    "mae1.env.Sset"
   ]
  },
  {
   "cell_type": "code",
   "execution_count": null,
   "id": "b806307d-b858-45ee-aa12-29ac5013d201",
   "metadata": {},
   "outputs": [],
   "source": [
    "mae1.env.Oset"
   ]
  },
  {
   "cell_type": "code",
   "execution_count": null,
   "id": "8fdf29b9-0d74-4a85-ba8d-c09b642beedb",
   "metadata": {},
   "outputs": [],
   "source": [
    "mae1.env.O[0] = [[0.25, 0. , 0. , 0. ],\n",
    "                [0. , 0.25, 0. , 0. ],\n",
    "                [0. , 0. , 0.25, 0. ],\n",
    "                [0. , 0. , 0. , 0.25]]"
   ]
  },
  {
   "cell_type": "code",
   "execution_count": null,
   "id": "c9d7c7c4-b6f1-4ec5-858a-66e108134729",
   "metadata": {},
   "outputs": [],
   "source": [
    "ax = fp.plot_strategy_flow(mae1, x, y, flowarrow_points=np.linspace(0.01 ,0.99, 9), NrRandom=32,\n",
    "                           conds=mae1.env.Sset, verbose=True)\n",
    "\n",
    "# TODO: the number of conditions is wrong due to some mismatch in the hOset method implementation\n",
    "# I need to keep in mind when fixing it that I shouldn't break backward compatibility with AC agents\n",
    "# I need to fix it for POSAC"
   ]
  },
  {
   "cell_type": "code",
   "execution_count": null,
   "id": "276f44b3-83f7-49c2-b6c4-2277402ec00b",
   "metadata": {},
   "outputs": [],
   "source": [
    "memo1pd.O"
   ]
  },
  {
   "cell_type": "markdown",
   "id": "b622ee58-b75c-43de-81be-f6c6d8b22693",
   "metadata": {},
   "source": [
    "### Test history with partial heterogeneous observability history: "
   ]
  },
  {
   "cell_type": "code",
   "execution_count": null,
   "id": "c8993c16-00c7-42e7-9950-148ab7e922d9",
   "metadata": {},
   "outputs": [],
   "source": [
    "#| hide\n",
    "import nbdev; nbdev.nbdev_export()"
   ]
  },
  {
   "cell_type": "code",
   "execution_count": null,
   "id": "af7ed785-272b-4b27-89d4-7e8066ff6da8",
   "metadata": {},
   "outputs": [],
   "source": []
  }
 ],
 "metadata": {
  "kernelspec": {
   "display_name": "Python 3 (ipykernel)",
   "language": "python",
   "name": "python3"
  },
  "language_info": {
   "codemirror_mode": {
    "name": "ipython",
    "version": 3
   },
   "file_extension": ".py",
   "mimetype": "text/x-python",
   "name": "python",
   "nbconvert_exporter": "python",
   "pygments_lexer": "ipython3",
   "version": "3.12.1"
  }
 },
 "nbformat": 4,
 "nbformat_minor": 5
}
