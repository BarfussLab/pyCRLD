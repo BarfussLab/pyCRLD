{
 "cells": [
  {
   "attachments": {},
   "cell_type": "markdown",
   "id": "6bb6e51f-dfd0-44fa-a702-96a08301e3e7",
   "metadata": {},
   "source": [
    "# Multiple Observation SocialDilemma\n",
    "\n",
    "> Class for a symmetric two-agent stateless social dilemma environment"
   ]
  },
  {
   "attachments": {},
   "cell_type": "markdown",
   "id": "7d0a000c",
   "metadata": {},
   "source": [
    "Typical examples are the *Prisoner's Dilemma*, *Stag Hunt* game, and the game of *chicken*/*snowdrift*/*hawk-dove*."
   ]
  },
  {
   "cell_type": "code",
   "execution_count": 1,
   "id": "42f03146-1f02-4bd7-bc5a-9774aafca256",
   "metadata": {},
   "outputs": [],
   "source": [
    "#| default_exp Environments/MultipleObsSocialDilemma"
   ]
  },
  {
   "cell_type": "code",
   "execution_count": 2,
   "id": "db70985a-597d-4465-8383-40d7a84503fc",
   "metadata": {},
   "outputs": [],
   "source": [
    "#| hide\n",
    "# Imports for the nbdev development environment\n",
    "from nbdev.showdoc import *"
   ]
  },
  {
   "cell_type": "code",
   "execution_count": 3,
   "id": "17cbff78-3063-4406-88aa-d03ac35f0539",
   "metadata": {},
   "outputs": [],
   "source": [
    "#| hide\n",
    "%load_ext autoreload\n",
    "%autoreload 2"
   ]
  },
  {
   "cell_type": "code",
   "execution_count": 4,
   "id": "4f510399-524c-4756-bfc9-d791de43ab18",
   "metadata": {},
   "outputs": [],
   "source": [
    "#| export\n",
    "from pyCRLD.Environments.Base import ebase\n",
    "\n",
    "from fastcore.utils import *\n",
    "from fastcore.test import *\n",
    "\n",
    "from pyCRLD.Environments.HeterogeneousObservationsEnv import HeterogeneousObservationsEnv\n",
    "\n",
    "import numpy as np"
   ]
  },
  {
   "cell_type": "code",
   "execution_count": 5,
   "id": "9446dc68-1fb3-4e54-8425-65da84ebfcaa",
   "metadata": {},
   "outputs": [],
   "source": [
    "class MultipleObsSocialDilemma(HeterogeneousObservationsEnv):\n",
    "    \"\"\"\n",
    "    Symmetric 2-agent 2-action Social Dilemma Matrix Game.\n",
    "    \"\"\"\n",
    "    def __init__(self,\n",
    "                 rewards,  # rewards of mutual cooperation\n",
    "                 temptations,  # temptations of unilateral defection\n",
    "                 suckers_payoffs,  # sucker's payoff of unilateral cooperation\n",
    "                 punishments,  # punishment of mutual defection\n",
    "                 pC=0.5,\n",
    "                 observation_opacity=None):\n",
    "\n",
    "        # Normalize inputs to be lists of length 2\n",
    "        self.rewards = [rewards, rewards] if isinstance(rewards, int) else rewards\n",
    "        self.temptations = [temptations, temptations] if isinstance(temptations, int) else temptations\n",
    "        self.suckers_payoffs = [suckers_payoffs, suckers_payoffs] if isinstance(suckers_payoffs, int) else suckers_payoffs\n",
    "        self.punishments = [punishments, punishments] if isinstance(punishments, int) else punishments\n",
    "\n",
    "        # Ensuring all are lists of size 2 for consistency\n",
    "        if not all(len(lst) == 2 for lst in [self.rewards, self.temptations, self.suckers_payoffs, self.punishments]):\n",
    "            raise ValueError(\"All parameters must either be a single integer or a list of two integers.\")\n",
    "\n",
    "        # TODO: these variables are expected to be already initialized in the parent class\n",
    "        # causing a recursive calling and causing the dependency on them to fail\n",
    "        # therefore we need to initialize them here\n",
    "        self.n_agents = 2\n",
    "        self.n_agent_actions = 2\n",
    "        self.n_states = 2 # TODO: I'm not entirely sure on why we have 2 states here\n",
    "\n",
    "        self.pC = pC  # prop. contract TODO: no idea what this is    \n",
    "        self.state = 0 # initial state\n",
    "        super().__init__(observation_opacity=observation_opacity)\n"
   ]
  },
  {
   "cell_type": "code",
   "execution_count": 6,
   "id": "807ce783-63e5-402d-bb92-f42fea047254",
   "metadata": {},
   "outputs": [],
   "source": [
    "#| export\n",
    "@patch\n",
    "def transition_tensor(self:MultipleObsSocialDilemma):\n",
    "    \"\"\"Calculate the Transition Tensor\"\"\"\n",
    "    Tsas = np.ones((2, 2, 2, 2)) * (-1)\n",
    "    Tsas[:, :, :, 0] = 1 - self.pC\n",
    "    Tsas[:, :, :, 1] = self.pC\n",
    "    return Tsas\n",
    "\n",
    "@patch\n",
    "def reward_tensor(self:MultipleObsSocialDilemma):\n",
    "    \"\"\"Get the Reward Tensor R[i,s,a1,...,aN,s'].\"\"\"\n",
    "\n",
    "    R = np.zeros((self.n_agents, self.n_states, self.n_agent_actions, self.n_agent_actions, self.n_states))\n",
    "\n",
    "    # TODO: the way these arrays are defined is invalid code and I dont want to figure out why\n",
    "\n",
    "    # TODO: in general i don't understand the construction of these arrays. What does : do anyway?\n",
    "    # ok so the cmd above creates two arrays (n_agents) of a two dimensional space that is indicating the number\n",
    "    # of states, for each action an agent can take... So we have one matrix that contains all actions C \n",
    "    # and another matrix containing all actions D. So I'm assuming a game can be in either C state or D state?\n",
    "    # though I thought IPD only had one state '.'. This is where my confusion lies.\n",
    "    # I also don't fully understand how these arrays are filled. I should print R and check.\n",
    "    \n",
    "    # set reward matrix for agent 0\n",
    "    R[0, 0, :, :, 0] = [[self.rewards[0], self.suckers_payoffs[0]],\n",
    "                        [self.temptations[0], self.punishments[0]]]\n",
    "    R[1, 0, :, :, 0] = [[self.rewards[0], self.temptations[0]],\n",
    "                        [self.suckers_payoffs[0], self.punishments[0]]]\n",
    "    R[:, 0, :, :, 1] = R[:, 0, :, :, 0]\n",
    "\n",
    "    # set reward matrix for agent 1 in the second state\n",
    "    R[0, 1, :, :, 1] = [[self.rewards[1], self.suckers_payoffs[1]],\n",
    "                        [self.temptations[1], self.punishments[1]]]\n",
    "    R[1, 1, :, :, 1] = [[self.rewards[1], self.temptations[1]],\n",
    "                        [self.suckers_payoffs[1], self.punishments[1]]]\n",
    "    R[:, 1, :, :, 0] = R[:, 1, :, :, 1]\n",
    "    \n",
    "    return R\n",
    "\n",
    "@patch\n",
    "def actions(self:MultipleObsSocialDilemma):\n",
    "    \"\"\"The action sets\"\"\"\n",
    "    return [['c', 'd'] for _ in range(self.n_agents)]\n",
    "\n",
    "@patch\n",
    "def states(self:MultipleObsSocialDilemma):\n",
    "    \"\"\"The states set\"\"\"\n",
    "    return [0, 1], [\"no contract\", \"contract\"] # TODO: I don't understand why we use 2 states?\n",
    "\n",
    "@patch\n",
    "def id(self:MultipleObsSocialDilemma):\n",
    "    \"\"\"\n",
    "    Returns id string of environment\n",
    "    \"\"\"\n",
    "    # Default\n",
    "    id = f\"{self.__class__.__name__}_\"+\\\n",
    "        f\"{self.temptations}_{self.rewards}_{self.punishments}_{self.suckers_payoffs}\"\n",
    "    return id"
   ]
  },
  {
   "attachments": {},
   "cell_type": "markdown",
   "id": "28318b34-87e7-4ffd-855d-e4a51df05776",
   "metadata": {},
   "source": [
    "### Example"
   ]
  },
  {
   "cell_type": "code",
   "execution_count": 19,
   "id": "109c733b-56e5-41fd-83ea-f314b0f6096e",
   "metadata": {},
   "outputs": [
    {
     "ename": "TypeError",
     "evalue": "MultipleObsSocialDilemma.__init__() got an unexpected keyword argument 'observation_opacity'",
     "output_type": "error",
     "traceback": [
      "\u001b[0;31m---------------------------------------------------------------------------\u001b[0m",
      "\u001b[0;31mTypeError\u001b[0m                                 Traceback (most recent call last)",
      "Cell \u001b[0;32mIn[19], line 1\u001b[0m\n\u001b[0;32m----> 1\u001b[0m env_full_obs \u001b[38;5;241m=\u001b[39m \u001b[43mMultipleObsSocialDilemma\u001b[49m\u001b[43m(\u001b[49m\u001b[43mrewards\u001b[49m\u001b[38;5;241;43m=\u001b[39;49m\u001b[38;5;241;43m1\u001b[39;49m\u001b[43m,\u001b[49m\u001b[43m \u001b[49m\u001b[43mtemptations\u001b[49m\u001b[38;5;241;43m=\u001b[39;49m\u001b[38;5;241;43m2\u001b[39;49m\u001b[43m,\u001b[49m\u001b[43m \u001b[49m\u001b[43msuckers_payoffs\u001b[49m\u001b[38;5;241;43m=\u001b[39;49m\u001b[38;5;241;43m-\u001b[39;49m\u001b[38;5;241;43m1\u001b[39;49m\u001b[43m,\u001b[49m\u001b[43m \u001b[49m\u001b[43mpunishments\u001b[49m\u001b[38;5;241;43m=\u001b[39;49m\u001b[38;5;241;43m0\u001b[39;49m\u001b[43m,\u001b[49m\u001b[43m \u001b[49m\u001b[43mobservation_opacity\u001b[49m\u001b[38;5;241;43m=\u001b[39;49m\u001b[38;5;241;43m1\u001b[39;49m\u001b[43m)\u001b[49m\n",
      "\u001b[0;31mTypeError\u001b[0m: MultipleObsSocialDilemma.__init__() got an unexpected keyword argument 'observation_opacity'"
     ]
    }
   ],
   "source": [
    "env_full_obs = MultipleObsSocialDilemma(rewards=1, temptations=2, suckers_payoffs=-1, punishments=0, observation_opacity=1)"
   ]
  },
  {
   "cell_type": "code",
   "execution_count": 14,
   "id": "7e268fb4-b988-42ff-929c-a9c20766dcf9",
   "metadata": {},
   "outputs": [
    {
     "data": {
      "text/plain": [
       "array([[[0., 0.],\n",
       "        [0., 0.]],\n",
       "\n",
       "       [[1., 0.],\n",
       "        [0., 1.]]])"
      ]
     },
     "execution_count": 14,
     "metadata": {},
     "output_type": "execute_result"
    }
   ],
   "source": [
    "env_full_obs.observations"
   ]
  },
  {
   "cell_type": "code",
   "execution_count": 9,
   "id": "1af68318-dfef-4c0f-9258-3c106f5fb4e7",
   "metadata": {},
   "outputs": [
    {
     "data": {
      "text/plain": [
       "array([[[[[ 1.,  1.],\n",
       "          [-1., -1.]],\n",
       "\n",
       "         [[ 2.,  2.],\n",
       "          [ 0.,  0.]]],\n",
       "\n",
       "\n",
       "        [[[ 1.,  1.],\n",
       "          [-1., -1.]],\n",
       "\n",
       "         [[ 2.,  2.],\n",
       "          [ 0.,  0.]]]],\n",
       "\n",
       "\n",
       "\n",
       "       [[[[ 1.,  1.],\n",
       "          [ 2.,  2.]],\n",
       "\n",
       "         [[-1., -1.],\n",
       "          [ 0.,  0.]]],\n",
       "\n",
       "\n",
       "        [[[ 1.,  1.],\n",
       "          [ 2.,  2.]],\n",
       "\n",
       "         [[-1., -1.],\n",
       "          [ 0.,  0.]]]]])"
      ]
     },
     "execution_count": 9,
     "metadata": {},
     "output_type": "execute_result"
    }
   ],
   "source": [
    "env_full_obs.rewards"
   ]
  },
  {
   "cell_type": "code",
   "execution_count": 10,
   "id": "b006f17f-43de-4051-adff-997e7820f31a",
   "metadata": {},
   "outputs": [
    {
     "ename": "NameError",
     "evalue": "name 'multienv' is not defined",
     "output_type": "error",
     "traceback": [
      "\u001b[0;31m---------------------------------------------------------------------------\u001b[0m",
      "\u001b[0;31mNameError\u001b[0m                                 Traceback (most recent call last)",
      "Cell \u001b[0;32mIn[10], line 1\u001b[0m\n\u001b[0;32m----> 1\u001b[0m \u001b[43mmultienv\u001b[49m\u001b[38;5;241m.\u001b[39mobservation_labels\n",
      "\u001b[0;31mNameError\u001b[0m: name 'multienv' is not defined"
     ]
    }
   ],
   "source": [
    "multienv.observation_labels"
   ]
  },
  {
   "cell_type": "code",
   "execution_count": null,
   "id": "76c083e0-34ba-4b10-a90a-81b4c1882efe",
   "metadata": {},
   "outputs": [],
   "source": [
    "env_full_obs.id()"
   ]
  },
  {
   "cell_type": "code",
   "execution_count": null,
   "id": "33907857-6529-4e4b-a187-372fec1f0f20",
   "metadata": {},
   "outputs": [],
   "source": [
    "env_full_obs"
   ]
  },
  {
   "attachments": {},
   "cell_type": "markdown",
   "id": "98c77ec9-94ab-4657-9845-d3db3bbc1385",
   "metadata": {},
   "source": [
    "Reward matrix of agent `0`:"
   ]
  },
  {
   "cell_type": "code",
   "execution_count": null,
   "id": "0a1ed94e-1b4f-438f-8ac3-43ad63bdb448",
   "metadata": {},
   "outputs": [],
   "source": [
    "env_full_obs.reward_tensor()[0,0,:,:,0]"
   ]
  },
  {
   "attachments": {},
   "cell_type": "markdown",
   "id": "f61edf43-9f60-475c-9a05-80804a90ba1d",
   "metadata": {},
   "source": [
    "Reward matrix of agent `1`:"
   ]
  },
  {
   "cell_type": "code",
   "execution_count": null,
   "id": "1c147d7a-70c3-406c-87e1-1f1632a11696",
   "metadata": {},
   "outputs": [],
   "source": [
    "env_full_obs.reward_tensor()[1,0,:,:,0]"
   ]
  },
  {
   "cell_type": "code",
   "execution_count": null,
   "id": "a4563fee-731f-4671-86db-dd4fe3fa0159",
   "metadata": {},
   "outputs": [],
   "source": [
    "multienv.transition_tensor()"
   ]
  },
  {
   "cell_type": "code",
   "execution_count": null,
   "id": "cdb83f09-1bf5-49bf-badb-b74d5daf7344",
   "metadata": {},
   "outputs": [],
   "source": [
    "multienv.actions()"
   ]
  },
  {
   "cell_type": "code",
   "execution_count": null,
   "id": "f122f972-6d78-420e-ad3e-c3bebcba2458",
   "metadata": {},
   "outputs": [],
   "source": [
    "multienv.states()"
   ]
  },
  {
   "cell_type": "code",
   "execution_count": null,
   "id": "c8993c16-00c7-42e7-9950-148ab7e922d9",
   "metadata": {},
   "outputs": [],
   "source": [
    "#| hide\n",
    "import nbdev; nbdev.nbdev_export()"
   ]
  },
  {
   "cell_type": "code",
   "execution_count": null,
   "id": "af7ed785-272b-4b27-89d4-7e8066ff6da8",
   "metadata": {},
   "outputs": [],
   "source": []
  }
 ],
 "metadata": {
  "kernelspec": {
   "display_name": "Python 3 (ipykernel)",
   "language": "python",
   "name": "python3"
  },
  "language_info": {
   "codemirror_mode": {
    "name": "ipython",
    "version": 3
   },
   "file_extension": ".py",
   "mimetype": "text/x-python",
   "name": "python",
   "nbconvert_exporter": "python",
   "pygments_lexer": "ipython3",
   "version": "3.10.3"
  }
 },
 "nbformat": 4,
 "nbformat_minor": 5
}
