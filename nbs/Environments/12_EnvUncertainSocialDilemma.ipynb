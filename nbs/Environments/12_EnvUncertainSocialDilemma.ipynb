{
 "cells": [
  {
   "cell_type": "markdown",
   "id": "eb6ff638-4711-4c3e-953e-f0fa7e76a6a4",
   "metadata": {},
   "source": [
    "# Uncertain Social Dilemma\n",
    "\n",
    "> Class for two states social dilemma with partial observing agents"
   ]
  },
  {
   "cell_type": "code",
   "execution_count": null,
   "id": "c7b0d896-4f09-4abc-9b1c-4d2d559b5cba",
   "metadata": {},
   "outputs": [],
   "source": [
    "#| default_exp Environments/UncertainSocialDilemma"
   ]
  },
  {
   "cell_type": "code",
   "execution_count": null,
   "id": "1f06c9b1-0d04-478c-b6fc-9b88643afeb4",
   "metadata": {},
   "outputs": [],
   "source": [
    "#| hide\n",
    "# Imports for the nbdev development environment\n",
    "from nbdev.showdoc import *"
   ]
  },
  {
   "cell_type": "code",
   "execution_count": null,
   "id": "2ed8aa8d-058e-4c18-9ba0-10b2ca3edfdc",
   "metadata": {},
   "outputs": [],
   "source": [
    "#| hide\n",
    "%load_ext autoreload\n",
    "%autoreload 2"
   ]
  },
  {
   "cell_type": "markdown",
   "id": "4be651fb-f4d7-4a44-b769-34c81115a3e4",
   "metadata": {},
   "source": [
    "# Example"
   ]
  },
  {
   "cell_type": "code",
   "execution_count": null,
   "id": "53c4c230-e82b-4eee-86fa-ec422c5d340d",
   "metadata": {},
   "outputs": [],
   "source": [
    "from pyCRLD.Environments.UncertainSocialDilemma import UncertainSocialDilemma\n",
    "from pyCRLD.Agents.POStrategyActorCritic import POstratAC\n",
    "from pyCRLD.Utils import FlowPlot as fp\n",
    "import numpy as np"
   ]
  },
  {
   "cell_type": "code",
   "execution_count": null,
   "id": "ffaf4561-04a5-47d3-a3d8-84554a021f27",
   "metadata": {},
   "outputs": [
    {
     "data": {
      "text/plain": [
       "UncertainSocialDilemma_2_5_6_-1_0_5_2_-1_0_0.5_0.5"
      ]
     },
     "execution_count": null,
     "metadata": {},
     "output_type": "execute_result"
    }
   ],
   "source": [
    "env = UncertainSocialDilemma(R1=5, T1=6, S1=-1, P1=0, R2=5, T2=2, S2=-1, P2=0, pC=0.5, obsnoise=0.5)\n",
    "env"
   ]
  },
  {
   "cell_type": "markdown",
   "id": "bed41bcc-3567-44b0-bfed-72178db58473",
   "metadata": {},
   "source": [
    "In the prosperous state, the rewards are a tragedy Prisoners' Dilemma."
   ]
  },
  {
   "cell_type": "code",
   "execution_count": null,
   "id": "17170370-5f88-4751-9118-c6e655f34aee",
   "metadata": {},
   "outputs": [
    {
     "data": {
      "text/plain": [
       "(array([[ 5., -1.],\n",
       "        [ 2.,  0.]]),\n",
       " array([[ 5.,  2.],\n",
       "        [-1.,  0.]]))"
      ]
     },
     "execution_count": null,
     "metadata": {},
     "output_type": "execute_result"
    }
   ],
   "source": [
    "env.R[0,1,:,:,1], env.R[1,1,:,:,1]"
   ]
  },
  {
   "cell_type": "code",
   "execution_count": null,
   "id": "e3458f92-662c-4fad-82f7-8daf3e695266",
   "metadata": {},
   "outputs": [
    {
     "data": {
      "text/plain": [
       "array([[[[0.5, 0.5],\n",
       "         [0.5, 0.5]],\n",
       "\n",
       "        [[0.5, 0.5],\n",
       "         [0.5, 0.5]]],\n",
       "\n",
       "\n",
       "       [[[0.5, 0.5],\n",
       "         [0.5, 0.5]],\n",
       "\n",
       "        [[0.5, 0.5],\n",
       "         [0.5, 0.5]]]])"
      ]
     },
     "execution_count": null,
     "metadata": {},
     "output_type": "execute_result"
    }
   ],
   "source": [
    "env.TransitionTensor()"
   ]
  },
  {
   "cell_type": "code",
   "execution_count": null,
   "id": "87819e82-630a-49b8-a7e9-759fe40a4248",
   "metadata": {},
   "outputs": [
    {
     "data": {
      "text/plain": [
       "\"\\nmae = POstratAC(env=env, learning_rates=0.1, discount_factors=0.9)\\n\\nx = ([0], [0,1], [0])  # Plotting on the x-axis the [0]'s agents probability in both states [0,1] to cooprate [0]\\ny = ([1], [0,1], [0])  # Plotting on the y-axis the [1]'s agents probability in both states [0,1] to cooprate [0]\\nax = fp.plot_strategy_flow(mae, x, y, flowarrow_points = np.linspace(0.01 ,0.99, 9), NrRandom=16)\\n\""
      ]
     },
     "execution_count": null,
     "metadata": {},
     "output_type": "execute_result"
    }
   ],
   "source": [
    "# Init enviornment and MultiAgentEnvironment-interface\n",
    "\"\"\"\n",
    "mae = POstratAC(env=env, learning_rates=0.1, discount_factors=0.9)\n",
    "\n",
    "x = ([0], [0,1], [0])  # Plotting on the x-axis the [0]'s agents probability in both states [0,1] to cooprate [0]\n",
    "y = ([1], [0,1], [0])  # Plotting on the y-axis the [1]'s agents probability in both states [0,1] to cooprate [0]\n",
    "ax = fp.plot_strategy_flow(mae, x, y, flowarrow_points = np.linspace(0.01 ,0.99, 9), NrRandom=16)\n",
    "\"\"\""
   ]
  },
  {
   "cell_type": "markdown",
   "id": "cea7ef6a-fdc7-43d3-b44f-bf2e3ab11e32",
   "metadata": {},
   "source": [
    "## Implementation"
   ]
  },
  {
   "cell_type": "code",
   "execution_count": null,
   "id": "d9674b5b-dcf3-456a-815a-393a652156e1",
   "metadata": {},
   "outputs": [],
   "source": [
    "#| export\n",
    "from pyCRLD.Environments.Base import ebase\n",
    "from pyCRLD.Utils.Helpers import make_variable_vector\n",
    "\n",
    "from fastcore.utils import *\n",
    "from fastcore.test import *\n",
    "\n",
    "from typing import Iterable\n",
    "import numpy as np"
   ]
  },
  {
   "cell_type": "code",
   "execution_count": null,
   "id": "b3696528-7c80-428e-aa0d-8fa3f176603e",
   "metadata": {},
   "outputs": [],
   "source": [
    "#| export\n",
    "class UncertainSocialDilemma(ebase):\n",
    "\n",
    "    def __init__(self, R1, T1, S1, P1, R2, T2, S2, P2, pC, obsnoise):\n",
    "        self.N = 2\n",
    "        self.M = 2\n",
    "        self.Z = 2\n",
    "\n",
    "        self.R1 = R1\n",
    "        self.T1 = T1\n",
    "        self.S1 = S1    \n",
    "        self.P1 = P1    \n",
    "\n",
    "        self.R2 = R2\n",
    "        self.T2 = T2\n",
    "        self.S2 = S2    \n",
    "        self.P2 = P2    \n",
    "        \n",
    "        self.pC = pC  # prop. contract\n",
    "        if not hasattr(obsnoise, \"__iter__\"):\n",
    "            self.noise = np.array([obsnoise, obsnoise])\n",
    "        else:\n",
    "            assert len(obsnoise) == 2\n",
    "            self.obsnoise = np.array(obsnoise)\n",
    "        assert min(self.noise) >= 0.0\n",
    "\n",
    "        # --\n",
    "        self.T = self.TransitionTensor()\n",
    "        self.R = self.RewardTensor()\n",
    "        self.O = self.ObservationTensor()\n",
    "        self.state = 1 # inital state\n",
    "        super().__init__()"
   ]
  },
  {
   "cell_type": "code",
   "execution_count": null,
   "id": "a1e5d75f-885b-45dd-8484-9d13719c23fa",
   "metadata": {},
   "outputs": [],
   "source": [
    "#| export\n",
    "@patch\n",
    "def actions(self:UncertainSocialDilemma):\n",
    "        return [0, 1], [\"coop.\", \"defect.\"]"
   ]
  },
  {
   "cell_type": "code",
   "execution_count": null,
   "id": "64d627ac-1ec4-4d6e-a37d-53faecc0b4b5",
   "metadata": {},
   "outputs": [],
   "source": [
    "#| export\n",
    "@patch\n",
    "def states(self:UncertainSocialDilemma):\n",
    "        return [0, 1], [\"no contract\", \"contract\"]\n"
   ]
  },
  {
   "cell_type": "code",
   "execution_count": null,
   "id": "9cca1842-f37b-411c-9d4f-7d2465f1ab54",
   "metadata": {},
   "outputs": [],
   "source": [
    "#| export\n",
    "@patch\n",
    "def TransitionTensor(self:UncertainSocialDilemma):\n",
    "        \"\"\"Get the Transition Tensor.\"\"\"\n",
    "        Tsas = np.ones((2, 2, 2, 2)) * (-1)\n",
    "\n",
    "        Tsas[:, :, :, 0] = 1-self.pC\n",
    "        Tsas[:, :, :, 1] = self.pC\n",
    "\n",
    "        return Tsas"
   ]
  },
  {
   "cell_type": "code",
   "execution_count": null,
   "id": "5cd0a8f3-6a6e-49f7-9d2f-599840485450",
   "metadata": {},
   "outputs": [],
   "source": [
    "#| export\n",
    "@patch\n",
    "def RewardTensor(self:UncertainSocialDilemma):\n",
    "        \"\"\"Get the Reward Tensor R[i,s,a1,...,aN,s'].\"\"\"\n",
    "\n",
    "        R = np.zeros((2, 2, 2, 2, 2))\n",
    "\n",
    "        R[0, 0, :, :, 0] = [[self.R1, self.S1],\n",
    "                            [self.T1, self.P1]]\n",
    "        R[1, 0, :, :, 0] = [[self.R1, self.T1],\n",
    "                            [self.S1, self.P1]]\n",
    "        R[:, 0, :, :, 1] = R[:, 0, :, :, 0]\n",
    "\n",
    "        R[0, 1, :, :, 1] = [[self.R2, self.S2],\n",
    "                            [self.T2, self.P2]]\n",
    "        R[1, 1, :, :, 1] = [[self.R2, self.T2],\n",
    "                            [self.S2, self.P2]]\n",
    "        R[:, 1, :, :, 0] = R[:, 1, :, :, 1]\n",
    "\n",
    "        return R"
   ]
  },
  {
   "cell_type": "code",
   "execution_count": null,
   "id": "ea8dae38-54f5-4db9-9a3c-c0da488b451a",
   "metadata": {},
   "outputs": [],
   "source": [
    "#| export\n",
    "@patch\n",
    "def ObservationTensor(self:UncertainSocialDilemma):\n",
    "\n",
    "        if np.all(self.noise > 0.5):\n",
    "            self.Q = 1\n",
    "            Oiso = np.ones((self.N, self.Z, self.Q))\n",
    "            \n",
    "        else:\n",
    "            self.Q = self.Z\n",
    "            Oiso = np.zeros((self.N, self.Z, self.Q))\n",
    "\n",
    "            for i in range(self.N):\n",
    "                Oiso[i,0,0] = 1 - min(self.noise[i], 0.5)\n",
    "                Oiso[i,0,1] = 0 + min(self.noise[i], 0.5)\n",
    "                Oiso[i,1,0] = 0 + min(self.noise[i], 0.5)\n",
    "                Oiso[i,1,1] = 1 - min(self.noise[i], 0.5)\n",
    "            \n",
    "        return Oiso"
   ]
  },
  {
   "cell_type": "code",
   "execution_count": null,
   "id": "d1e09388-5eaa-46c0-aeec-201f7685620e",
   "metadata": {},
   "outputs": [],
   "source": [
    "#| export\n",
    "@patch\n",
    "def id(self:UncertainSocialDilemma):\n",
    "    \"\"\"\n",
    "    Returns id string of environment\n",
    "    \"\"\"\n",
    "    # Default\n",
    "    R1 = self.R1\n",
    "    T1 = self.T1\n",
    "    S1 = self.S1\n",
    "    P1 = self.P1 \n",
    "    R2 = self.R1 \n",
    "    T2 = self.T2\n",
    "    S2 = self.S2\n",
    "    P2 = self.P2 \n",
    "    pC = self.pC \n",
    "    noise = self.noise if len(np.unique(self.noise))>1 else self.noise[0]\n",
    "\n",
    "    id = f\"{self.__class__.__name__}_\"+\\\n",
    "        f\"{self.N}_{str(R1)}_{str(T1)}_{str(S1)}_{str(P1)}_{str(R2)}_{str(T2)}_{str(S2)}_{str(P2)}_{str(pC)}_{str(noise)}\"\n",
    "    return id"
   ]
  },
  {
   "cell_type": "code",
   "execution_count": null,
   "id": "4623f2ee-661a-4695-b296-cd937ce3e176",
   "metadata": {},
   "outputs": [],
   "source": [
    "#| hide\n",
    "import nbdev; nbdev.nbdev_export()"
   ]
  },
  {
   "cell_type": "code",
   "execution_count": null,
   "id": "23cf9bd7-8e09-40d9-8e59-c3a440f77a16",
   "metadata": {},
   "outputs": [],
   "source": []
  },
  {
   "cell_type": "code",
   "execution_count": null,
   "id": "1a4cb6d2-f1fd-47a5-9969-8b37bb9b184c",
   "metadata": {},
   "outputs": [],
   "source": []
  }
 ],
 "metadata": {
  "kernelspec": {
   "display_name": "python3",
   "language": "python",
   "name": "python3"
  }
 },
 "nbformat": 4,
 "nbformat_minor": 5
}
