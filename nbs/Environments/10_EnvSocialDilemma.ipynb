{
 "cells": [
  {
   "cell_type": "markdown",
   "id": "6bb6e51f-dfd0-44fa-a702-96a08301e3e7",
   "metadata": {},
   "source": [
    "# Social Dilemma\n",
    "\n",
    "> Class for a symmetric two-agent stateless social dilemma environment"
   ]
  },
  {
   "cell_type": "markdown",
   "id": "7d0a000c",
   "metadata": {},
   "source": [
    "Typical examples are the *Prisoner's Dilemma*, *Stag Hunt* game, and the game of *chicken*/*snowdrift*/*hawk-dove*."
   ]
  },
  {
   "cell_type": "code",
   "execution_count": null,
   "id": "42f03146-1f02-4bd7-bc5a-9774aafca256",
   "metadata": {},
   "outputs": [],
   "source": [
    "#| default_exp Environments/SocialDilemma"
   ]
  },
  {
   "cell_type": "code",
   "execution_count": null,
   "id": "db70985a-597d-4465-8383-40d7a84503fc",
   "metadata": {},
   "outputs": [],
   "source": [
    "#| hide\n",
    "# Imports for the nbdev development environment\n",
    "from nbdev.showdoc import *"
   ]
  },
  {
   "cell_type": "code",
   "execution_count": null,
   "id": "17cbff78-3063-4406-88aa-d03ac35f0539",
   "metadata": {},
   "outputs": [],
   "source": [
    "#| hide\n",
    "%load_ext autoreload\n",
    "%autoreload 2"
   ]
  },
  {
   "cell_type": "code",
   "execution_count": null,
   "id": "4f510399-524c-4756-bfc9-d791de43ab18",
   "metadata": {},
   "outputs": [],
   "source": [
    "#| export\n",
    "from pyCRLD.Environments.Base import ebase\n",
    "\n",
    "from fastcore.utils import *\n",
    "from fastcore.test import *\n",
    "\n",
    "import numpy as np"
   ]
  },
  {
   "cell_type": "code",
   "execution_count": null,
   "id": "9446dc68-1fb3-4e54-8425-65da84ebfcaa",
   "metadata": {},
   "outputs": [],
   "source": [
    "#| export\n",
    "class SocialDilemma(ebase):\n",
    "    \"\"\"\n",
    "    Symmetric 2-agent 2-action Social Dilemma Matrix Game.\n",
    "    \"\"\" \n",
    "\n",
    "    def __init__(self,\n",
    "                 R:float,  # reward of mutual cooperation\n",
    "                 T:float,  # temptation of unilateral defection \n",
    "                 S:float,  # sucker's payoff of unilateral cooperation\n",
    "                 P:float): # punsihment of mutual defection\n",
    "        self.N = 2\n",
    "        self.M = 2\n",
    "        self.Z = 1\n",
    "\n",
    "        self.Re = R\n",
    "        self.Te = T\n",
    "        self.Su = S    \n",
    "        self.Pu = P\n",
    "\n",
    "        self.state = 0 # inital state\n",
    "        super().__init__()"
   ]
  },
  {
   "cell_type": "code",
   "execution_count": null,
   "id": "807ce783-63e5-402d-bb92-f42fea047254",
   "metadata": {},
   "outputs": [],
   "source": [
    "#| export\n",
    "@patch\n",
    "def TransitionTensor(self:SocialDilemma):\n",
    "    \"\"\"Get the Transition Tensor.\"\"\"\n",
    "    Tsas = np.ones((self.Z, self.M, self.M, self.Z))             \n",
    "    return Tsas"
   ]
  },
  {
   "cell_type": "code",
   "execution_count": null,
   "id": "8ca66c71-1ab3-4514-ab1b-15984e6bb6b2",
   "metadata": {},
   "outputs": [],
   "source": [
    "#| export\n",
    "@patch\n",
    "def RewardTensor(self:SocialDilemma):\n",
    "    \"\"\"Get the Reward Tensor R[i,s,a1,...,aN,s'].\"\"\"\n",
    "\n",
    "    R = np.zeros((2, self.Z, 2, 2, self.Z))\n",
    "\n",
    "    R[0, 0, :, :, 0] = [[self.Re , self.Su],\n",
    "                        [self.Te , self.Pu]]\n",
    "    R[1, 0, :, :, 0] = [[self.Re , self.Te],\n",
    "                        [self.Su , self.Pu]]\n",
    "\n",
    "    return R"
   ]
  },
  {
   "cell_type": "code",
   "execution_count": null,
   "id": "cf48ea1e-aa4c-4cba-a181-9675fa413b7e",
   "metadata": {},
   "outputs": [],
   "source": [
    "#| export\n",
    "@patch\n",
    "def actions(self:SocialDilemma):\n",
    "    \"\"\"The action sets\"\"\"\n",
    "    return [['c', 'd'] for _ in range(self.N)]"
   ]
  },
  {
   "cell_type": "code",
   "execution_count": null,
   "id": "5c9f4575-0816-4eab-8305-491192b48b04",
   "metadata": {},
   "outputs": [],
   "source": [
    "#| export\n",
    "@patch\n",
    "def states(self:SocialDilemma):\n",
    "    \"\"\"The states set\"\"\"\n",
    "    return ['.'] "
   ]
  },
  {
   "cell_type": "code",
   "execution_count": null,
   "id": "395c7eb5-c6c4-43cb-9408-8278d319051f",
   "metadata": {},
   "outputs": [],
   "source": [
    "#| export\n",
    "@patch\n",
    "def id(self:SocialDilemma):\n",
    "    \"\"\"\n",
    "    Returns id string of environment\n",
    "    \"\"\"\n",
    "    # Default\n",
    "    id = f\"{self.__class__.__name__}_\"+\\\n",
    "        f\"{self.Te}_{self.Re}_{self.Pu}_{self.Su}\"\n",
    "    return id\n"
   ]
  },
  {
   "cell_type": "markdown",
   "id": "28318b34-87e7-4ffd-855d-e4a51df05776",
   "metadata": {},
   "source": [
    "### Example"
   ]
  },
  {
   "cell_type": "code",
   "execution_count": null,
   "id": "109c733b-56e5-41fd-83ea-f314b0f6096e",
   "metadata": {},
   "outputs": [],
   "source": [
    "env = SocialDilemma(R=1, T=2, S=-1, P=0)"
   ]
  },
  {
   "cell_type": "code",
   "execution_count": null,
   "id": "76c083e0-34ba-4b10-a90a-81b4c1882efe",
   "metadata": {},
   "outputs": [
    {
     "data": {
      "text/plain": [
       "'SocialDilemma_2_1_0_-1'"
      ]
     },
     "execution_count": null,
     "metadata": {},
     "output_type": "execute_result"
    }
   ],
   "source": [
    "env.id()"
   ]
  },
  {
   "cell_type": "code",
   "execution_count": null,
   "id": "33907857-6529-4e4b-a187-372fec1f0f20",
   "metadata": {},
   "outputs": [
    {
     "data": {
      "text/plain": [
       "SocialDilemma_2_1_0_-1"
      ]
     },
     "execution_count": null,
     "metadata": {},
     "output_type": "execute_result"
    }
   ],
   "source": [
    "env"
   ]
  },
  {
   "cell_type": "markdown",
   "id": "98c77ec9-94ab-4657-9845-d3db3bbc1385",
   "metadata": {},
   "source": [
    "Reward matrix of agent `0`:"
   ]
  },
  {
   "cell_type": "code",
   "execution_count": null,
   "id": "0a1ed94e-1b4f-438f-8ac3-43ad63bdb448",
   "metadata": {},
   "outputs": [
    {
     "data": {
      "text/plain": [
       "array([[ 1., -1.],\n",
       "       [ 2.,  0.]])"
      ]
     },
     "execution_count": null,
     "metadata": {},
     "output_type": "execute_result"
    }
   ],
   "source": [
    "env.RewardTensor()[0,0,:,:,0]"
   ]
  },
  {
   "cell_type": "markdown",
   "id": "f61edf43-9f60-475c-9a05-80804a90ba1d",
   "metadata": {},
   "source": [
    "Reward matrix of agent `1`:"
   ]
  },
  {
   "cell_type": "code",
   "execution_count": null,
   "id": "1c147d7a-70c3-406c-87e1-1f1632a11696",
   "metadata": {},
   "outputs": [
    {
     "data": {
      "text/plain": [
       "array([[ 1.,  2.],\n",
       "       [-1.,  0.]])"
      ]
     },
     "execution_count": null,
     "metadata": {},
     "output_type": "execute_result"
    }
   ],
   "source": [
    "env.RewardTensor()[1,0,:,:,0]"
   ]
  },
  {
   "cell_type": "code",
   "execution_count": null,
   "id": "a4563fee-731f-4671-86db-dd4fe3fa0159",
   "metadata": {},
   "outputs": [
    {
     "data": {
      "text/plain": [
       "array([[[[1.],\n",
       "         [1.]],\n",
       "\n",
       "        [[1.],\n",
       "         [1.]]]])"
      ]
     },
     "execution_count": null,
     "metadata": {},
     "output_type": "execute_result"
    }
   ],
   "source": [
    "env.TransitionTensor()"
   ]
  },
  {
   "cell_type": "code",
   "execution_count": null,
   "id": "cdb83f09-1bf5-49bf-badb-b74d5daf7344",
   "metadata": {},
   "outputs": [
    {
     "data": {
      "text/plain": [
       "[['c', 'd'], ['c', 'd']]"
      ]
     },
     "execution_count": null,
     "metadata": {},
     "output_type": "execute_result"
    }
   ],
   "source": [
    "env.actions()"
   ]
  },
  {
   "cell_type": "code",
   "execution_count": null,
   "id": "f122f972-6d78-420e-ad3e-c3bebcba2458",
   "metadata": {},
   "outputs": [
    {
     "data": {
      "text/plain": [
       "['.']"
      ]
     },
     "execution_count": null,
     "metadata": {},
     "output_type": "execute_result"
    }
   ],
   "source": [
    "env.states()"
   ]
  },
  {
   "cell_type": "code",
   "execution_count": null,
   "id": "c8993c16-00c7-42e7-9950-148ab7e922d9",
   "metadata": {},
   "outputs": [],
   "source": [
    "#| hide\n",
    "import nbdev; nbdev.nbdev_export()"
   ]
  }
 ],
 "metadata": {
  "kernelspec": {
   "display_name": "Python 3 (ipykernel)",
   "language": "python",
   "name": "python3"
  },
  "language_info": {
   "codemirror_mode": {
    "name": "ipython",
    "version": 3
   },
   "file_extension": ".py",
   "mimetype": "text/x-python",
   "name": "python",
   "nbconvert_exporter": "python",
   "pygments_lexer": "ipython3",
   "version": "3.11.7"
  }
 },
 "nbformat": 4,
 "nbformat_minor": 5
}
