{
 "cells": [
  {
   "attachments": {},
   "cell_type": "markdown",
   "id": "6bb6e51f-dfd0-44fa-a702-96a08301e3e7",
   "metadata": {},
   "source": [
    "# Renewable Ressources\n",
    "\n",
    "> Class for environment with Renewable Ressources\n",
    "\n",
    "This code is an adaptation to pyCLRD of the code used in this article: [https://doi.org/10.1103/PhysRevE.105.034409](https://doi.org/10.1103/PhysRevE.105.034409)"
   ]
  },
  {
   "cell_type": "code",
   "execution_count": null,
   "id": "42f03146-1f02-4bd7-bc5a-9774aafca256",
   "metadata": {},
   "outputs": [],
   "source": [
    "#| default_exp Environments/RenewableRessources"
   ]
  },
  {
   "cell_type": "code",
   "execution_count": null,
   "id": "db70985a-597d-4465-8383-40d7a84503fc",
   "metadata": {},
   "outputs": [],
   "source": [
    "#| hide\n",
    "# Imports for the nbdev development environment\n",
    "from nbdev.showdoc import *"
   ]
  },
  {
   "cell_type": "code",
   "execution_count": null,
   "id": "17cbff78-3063-4406-88aa-d03ac35f0539",
   "metadata": {},
   "outputs": [],
   "source": [
    "#| hide\n",
    "%load_ext autoreload\n",
    "%autoreload 2"
   ]
  },
  {
   "cell_type": "code",
   "execution_count": null,
   "id": "c8993c16-00c7-42e7-9950-148ab7e922d9",
   "metadata": {},
   "outputs": [],
   "source": [
    "#| hide\n",
    "import nbdev; nbdev.nbdev_export()"
   ]
  },
  {
   "attachments": {},
   "cell_type": "markdown",
   "id": "e8230489-42e9-4e26-9578-e00610209b1c",
   "metadata": {},
   "source": [
    "## Implementation"
   ]
  },
  {
   "cell_type": "code",
   "execution_count": null,
   "id": "4f510399-524c-4756-bfc9-d791de43ab18",
   "metadata": {},
   "outputs": [],
   "source": [
    "#| export\n",
    "from pyCRLD.Environments.Base import ebase\n",
    "from pyCRLD.Utils.Helpers import make_variable_vector\n",
    "\n",
    "from fastcore.utils import *\n",
    "from fastcore.test import *\n",
    "\n",
    "from typing import Iterable\n",
    "import numpy as np\n",
    "from scipy.stats import norm"
   ]
  },
  {
   "cell_type": "code",
   "execution_count": null,
   "id": "9446dc68-1fb3-4e54-8425-65da84ebfcaa",
   "metadata": {},
   "outputs": [],
   "source": [
    "#| export\n",
    "class RenewableRessources(ebase):\n",
    "    \"\"\"\n",
    "    Environment with Renewable Ressources.\n",
    "    \"\"\" \n",
    "    def __init__(self, r, C, pR=0.1, obs=None, deltaE=0.2, sig=1.0):\n",
    "        self.r = r    # regrowth rate\n",
    "        self.C = C    # Capacity\n",
    "        self.pR = pR  # recovery propbability in the case of depeletion\n",
    "\n",
    "        self.N = 1  # starting with one agent, but this could be made adaptive\n",
    "        self.M = 3  # 2 for now, but eventually three?\n",
    "        self.Z = len(self._growth_dict())\n",
    "        \n",
    "        self.obs = obs\n",
    "        \n",
    "        self.dE = deltaE  # difference from max_sus_yield form low and high \n",
    "        self.sig = sig  # std of normal for state transitions\n",
    "        \n",
    "        self.T = self.TransitionTensor()\n",
    "        self.R = self.RewardTensor()\n",
    "        self.O = self.ObservationTensor()\n",
    "        super().__init__()"
   ]
  },
  {
   "cell_type": "code",
   "execution_count": null,
   "id": "185081d6-808a-420b-880f-300a0f092d83",
   "metadata": {},
   "outputs": [],
   "source": [
    "#| export\n",
    "@patch\n",
    "def _growth(self:RenewableRessources, stock):\n",
    "    return self.r * stock * (1 - stock / self.C)\n"
   ]
  },
  {
   "cell_type": "code",
   "execution_count": null,
   "id": "4807136e-b50f-434e-b375-93c847767f55",
   "metadata": {},
   "outputs": [],
   "source": [
    "#| export\n",
    "@patch\n",
    "def _growth_dict(self:RenewableRessources):\n",
    "    gdic = {0: self._growth(0)}\n",
    "\n",
    "    stock = 1\n",
    "    while self._growth(stock) > 0:\n",
    "        gdic[stock] = self._growth(stock)\n",
    "        stock += 1\n",
    "\n",
    "    return gdic\n"
   ]
  },
  {
   "cell_type": "code",
   "execution_count": null,
   "id": "8fa5162b-395c-4f3c-90e2-1b465a846e9b",
   "metadata": {},
   "outputs": [],
   "source": [
    "#| export\n",
    "@patch\n",
    "def _action_values(self:RenewableRessources):\n",
    "    \"\"\"\n",
    "    What are the extraction levels corresponding to actions?\n",
    "    TODO: To be adjusted when multi agent system is considered.\n",
    "    \"\"\"\n",
    "    gdic = self._growth_dict()\n",
    "    max_sus_yield = max(gdic.values())\n",
    "    zer_extract = 0\n",
    "    low_extract = (1-self.dE) * max_sus_yield\n",
    "    hig_extract = (1+self.dE) * max_sus_yield\n",
    "    return zer_extract, low_extract, hig_extract"
   ]
  },
  {
   "cell_type": "code",
   "execution_count": null,
   "id": "cf48ea1e-aa4c-4cba-a181-9675fa413b7e",
   "metadata": {},
   "outputs": [],
   "source": [
    "#| export\n",
    "@patch\n",
    "def actions(self:RenewableRessources):\n",
    "    z, l, h = self._action_values()\n",
    "    return [0, 1, 2], [\"0\",\"low\",\"high\"]\n"
   ]
  },
  {
   "cell_type": "code",
   "execution_count": null,
   "id": "14e16d09-5c69-4542-b05e-838242383dac",
   "metadata": {},
   "outputs": [],
   "source": [
    "#| export\n",
    "@patch\n",
    "def states(self:RenewableRessources):\n",
    "    return [i for i in range(len(self._growth_dict()))]"
   ]
  },
  {
   "cell_type": "code",
   "execution_count": null,
   "id": "5c9f4575-0816-4eab-8305-491192b48b04",
   "metadata": {},
   "outputs": [],
   "source": [
    "#| export\n",
    "@patch\n",
    "\n",
    "def obs_action_space(self:RenewableRessources):\n",
    "    return np.zeros((self.Q, self.M))\n"
   ]
  },
  {
   "cell_type": "code",
   "execution_count": null,
   "id": "bdad2190-4b2a-491b-9d93-b2aa89a080a7",
   "metadata": {},
   "outputs": [],
   "source": [
    "#| export\n",
    "@patch\n",
    "def TransitionTensor(self:RenewableRessources):\n",
    "    \"\"\"Get the Transition Tensor.\"\"\"\n",
    "    dim = np.concatenate(([self.Z],\n",
    "                          [self.M for _ in range(self.N)],\n",
    "                          [self.Z]))\n",
    "    Tsas = np.ones(dim) * (-1)\n",
    "\n",
    "    for index, _ in np.ndenumerate(Tsas):\n",
    "        Tsas[index] = self._transition_probability(index[0],\n",
    "                                                   index[1:-1],\n",
    "                                                   index[-1])\n",
    "    return Tsas"
   ]
  },
  {
   "cell_type": "code",
   "execution_count": null,
   "id": "807ce783-63e5-402d-bb92-f42fea047254",
   "metadata": {},
   "outputs": [],
   "source": [
    "#| export\n",
    "@patch\n",
    "def _transition_probability(self:RenewableRessources, s, jA, sprim):\n",
    "    acts = np.array(jA)\n",
    "    act_vals = np.array(self._action_values())\n",
    "\n",
    "    total_harvest = sum(act_vals[acts])\n",
    "    harvest_stock = max(s - total_harvest, 0)\n",
    "    new_stock = max(harvest_stock + self._growth(harvest_stock),\n",
    "                    self._recoverP(jA))\n",
    "    new_stock = min(new_stock, self.Z-1)\n",
    "\n",
    "    # lower_state = int(new_stock)\n",
    "    # upper_state = lower_state+1\n",
    "    # uniform distribution between neigboring states\n",
    "    # if sprim == lower_state:\n",
    "    #     p = upper_state - new_stock\n",
    "    # elif sprim == upper_state:\n",
    "    #     p = new_stock - lower_state\n",
    "    # else:\n",
    "    #     p = 0\n",
    "        \n",
    "    # gaussian distribution with std `sig` around new_stock\n",
    "    sig = self.sig\n",
    "    \n",
    "    if sprim == 0:  # minimum \n",
    "        p = norm.cdf(0.5, new_stock, sig)\n",
    "    elif sprim == self.Z-1: # maximum\n",
    "        p = 1 - norm.cdf(self.Z-1.5, new_stock, sig)\n",
    "    else:\n",
    "        p = norm.cdf(sprim+0.5, new_stock, sig)\\\n",
    "            - norm.cdf(sprim-0.5, new_stock, sig)\n",
    "         \n",
    "    return p"
   ]
  },
  {
   "attachments": {},
   "cell_type": "markdown",
   "id": "8abd64f8-efc7-40f0-88c1-2dc3d8fd4829",
   "metadata": {},
   "source": [
    "The `TransitionTensor` is obtained with the help of the `_transition_probability` method."
   ]
  },
  {
   "cell_type": "code",
   "execution_count": null,
   "id": "81172fb2-c7f0-4449-a2f5-922c3f19fb86",
   "metadata": {},
   "outputs": [
    {
     "data": {
      "text/markdown": [
       "---\n",
       "\n",
       "[source](https://github.com/wbarfuss/pyCRLD/blob/main/pyCRLD/Environments/RenewableRessources.py#L112){target=\"_blank\" style=\"float:right; font-size:smaller\"}\n",
       "\n",
       "### RenewableRessources._transition_probability\n",
       "\n",
       ">      RenewableRessources._transition_probability (s, jA, sprim)"
      ],
      "text/plain": [
       "---\n",
       "\n",
       "[source](https://github.com/wbarfuss/pyCRLD/blob/main/pyCRLD/Environments/RenewableRessources.py#L112){target=\"_blank\" style=\"float:right; font-size:smaller\"}\n",
       "\n",
       "### RenewableRessources._transition_probability\n",
       "\n",
       ">      RenewableRessources._transition_probability (s, jA, sprim)"
      ]
     },
     "execution_count": null,
     "metadata": {},
     "output_type": "execute_result"
    }
   ],
   "source": [
    "show_doc(RenewableRessources._transition_probability)"
   ]
  },
  {
   "cell_type": "code",
   "execution_count": null,
   "id": "44711097-0f02-4205-9bbf-fb0e4d8ef355",
   "metadata": {},
   "outputs": [],
   "source": [
    "#| export\n",
    "@patch\n",
    "\n",
    "def _recoverP(self:RenewableRessources, jA):\n",
    "    '''\n",
    "    makes random recovery action dependent.\n",
    "    It must pay of to choose low at degredation\n",
    "    '''\n",
    "    hig_recoverP = (1+self.dE) * self.pR\n",
    "    low_recoverP = (1-self.dE) * self.pR\n",
    "    zer_recoverP = 0\n",
    "    \n",
    "    recover_vals = np.array([hig_recoverP, low_recoverP, zer_recoverP])\n",
    "    \n",
    "    return recover_vals[jA].mean()"
   ]
  },
  {
   "cell_type": "code",
   "execution_count": null,
   "id": "1e77dd84-2199-46b2-9591-9790753aa20d",
   "metadata": {},
   "outputs": [],
   "source": [
    "#| export\n",
    "@patch\n",
    "\n",
    "def RewardTensor(self:RenewableRessources):\n",
    "    \"\"\"Get the Reward Tensor R[i,s,a1,...,aN,s'].\"\"\"\n",
    "    dim = np.concatenate(([self.N],\n",
    "                          [self.Z],\n",
    "                          [self.M for _ in range(self.N)],\n",
    "                          [self.Z]))\n",
    "    Risas = np.zeros(dim)\n",
    "\n",
    "    for index, _ in np.ndenumerate(Risas):\n",
    "        Risas[index] = self._reward(index[0], index[1], index[2:-1],\n",
    "                                    index[-1])\n",
    "    return Risas"
   ]
  },
  {
   "cell_type": "code",
   "execution_count": null,
   "id": "8ca66c71-1ab3-4514-ab1b-15984e6bb6b2",
   "metadata": {},
   "outputs": [],
   "source": [
    "\n",
    "#| export\n",
    "@patch\n",
    "\n",
    "def ObservationTensor(self:RenewableRessources):\n",
    "    \n",
    "    if self.obs is None:\n",
    "        self.obs = [[s] for s in range(self.Z)]\n",
    "    self.Q = len(self.obs)\n",
    "    \n",
    "    dim = np.concatenate(([self.N],\n",
    "                  [self.Z],\n",
    "                  [self.Q]))\n",
    "    Oiso = np.zeros(dim)\n",
    "\n",
    "    for o in range(self.Q):\n",
    "        for s in self.obs[o]:\n",
    "            Oiso[:,s,o] = 1\n",
    "            \n",
    "    Oiso = Oiso / Oiso.sum(-1, keepdims=True)\n",
    "\n",
    "    return Oiso"
   ]
  },
  {
   "attachments": {},
   "cell_type": "markdown",
   "id": "205db98e-63ef-4143-b89c-4e1479270de1",
   "metadata": {},
   "source": [
    "The `RewardTensor` is obtained with the help of the `_reward` method."
   ]
  },
  {
   "cell_type": "code",
   "execution_count": null,
   "id": "258f3031-8185-4354-99d8-0418d1dc0fe0",
   "metadata": {},
   "outputs": [],
   "source": [
    "#| export\n",
    "@patch\n",
    "\n",
    "def _reward(self:RenewableRessources, i, s, jA, sprim):\n",
    "    act_vals = np.array(self._action_values())\n",
    "    reward = 0.1*act_vals[jA[i]] if s == 0 or sprim == 0\\\n",
    "        else act_vals[jA[i]]\n",
    "    return reward"
   ]
  },
  {
   "cell_type": "code",
   "execution_count": null,
   "id": "c7647a26-3091-4cfb-81f6-541c5aae0f9e",
   "metadata": {},
   "outputs": [
    {
     "data": {
      "text/markdown": [
       "---\n",
       "\n",
       "[source](https://github.com/wbarfuss/pyCRLD/blob/main/pyCRLD/Environments/RenewableRessources.py#L220){target=\"_blank\" style=\"float:right; font-size:smaller\"}\n",
       "\n",
       "### RenewableRessources._reward\n",
       "\n",
       ">      RenewableRessources._reward (i, s, jA, sprim)"
      ],
      "text/plain": [
       "---\n",
       "\n",
       "[source](https://github.com/wbarfuss/pyCRLD/blob/main/pyCRLD/Environments/RenewableRessources.py#L220){target=\"_blank\" style=\"float:right; font-size:smaller\"}\n",
       "\n",
       "### RenewableRessources._reward\n",
       "\n",
       ">      RenewableRessources._reward (i, s, jA, sprim)"
      ]
     },
     "execution_count": null,
     "metadata": {},
     "output_type": "execute_result"
    }
   ],
   "source": [
    "show_doc(RenewableRessources._reward)"
   ]
  },
  {
   "cell_type": "code",
   "execution_count": null,
   "id": "395c7eb5-c6c4-43cb-9408-8278d319051f",
   "metadata": {},
   "outputs": [],
   "source": [
    "#| export\n",
    "@patch\n",
    "def id(self:RenewableRessources):\n",
    "    \"\"\"\n",
    "    Returns id string of environment TODO\n",
    "    \"\"\"\n",
    "    # Default\n",
    "    def shorten(a): \n",
    "        return a\n",
    "        \n",
    "    r= shorten(self.r)\n",
    "    C= shorten(self.C)\n",
    "\n",
    "    id = f\"{self.__class__.__name__}_\"+\\\n",
    "        f\"{self.N}_{str(r)}_{str(C)}\"\n",
    "\n",
    "    return id"
   ]
  },
  {
   "cell_type": "markdown",
   "id": "a0f71176-1a46-453c-89dc-0f11304c324c",
   "metadata": {},
   "source": [
    "# Example"
   ]
  },
  {
   "cell_type": "code",
   "execution_count": null,
   "id": "9dafc1f8-5404-4f68-8de9-65763a3490b1",
   "metadata": {},
   "outputs": [],
   "source": [
    "#| export\n",
    "from pyCRLD.Environments.RenewableRessources import RenewableRessources\n",
    "from pyCRLD.Agents.POStrategyActorCritic import POstratAC\n",
    "import numpy as np"
   ]
  },
  {
   "cell_type": "markdown",
   "id": "3f16b22d-8ea4-4f9c-bdc3-15a1b345c394",
   "metadata": {},
   "source": [
    "We will show the effect witnessed in the article: limited information can lead to better strategies. "
   ]
  },
  {
   "cell_type": "code",
   "execution_count": null,
   "id": "2c0779bc-7792-4ffe-a5ba-e1da078b6d3e",
   "metadata": {},
   "outputs": [],
   "source": [
    "# We will use the parameters from POLD on github, this function is \n",
    "\n",
    "def random_behavior(selfi, method=\"norm\"):\n",
    "    \"\"\"Behavior profile with random probabilities.\"\"\"\n",
    "    if method==\"norm\":\n",
    "        X = np.random.rand(selfi.N, selfi.Q, selfi.M)\n",
    "        X = X / X.sum(axis=2).repeat(selfi.M).reshape(selfi.N, selfi.Q,\n",
    "                                                     selfi.M)\n",
    "    elif method == \"diff\":\n",
    "        X = np.random.rand(selfi.N, selfi.Q, selfi.M-1)\n",
    "        X = np.concatenate((np.zeros((selfi.N, selfi.Q, 1)),\n",
    "                            np.sort(X, axis=-1),\n",
    "                            np.ones((selfi.N, selfi.Q, 1))), axis=-1)\n",
    "        X = X[:, :, 1:] - X[:, :, :-1]\n",
    "    return X\n",
    "def random_reward(env,test):\n",
    "    X = np.array(random_behavior(env))\n",
    "    xtraj, fixedpointreached = test.trajectory(X)\n",
    "    States = test.Ps(X)\n",
    "    Rewards = test.Rio(xtraj[-1])[0]\n",
    "    n = len(States)\n",
    "    reward = sum([ States[k]*Rewards[k] for k in range(n)])\n",
    "    return reward"
   ]
  },
  {
   "cell_type": "markdown",
   "id": "1abea3a9-8ae6-41ba-bd78-19edaa36b9d0",
   "metadata": {},
   "source": [
    "### Same environment with different observability for agents\n",
    "\n",
    "In the first environment, ```obs = None``` is a shortcut to say that all environment states are observable clearly. In the two others the observations are specified. We can see that limited observation can lead to better reward."
   ]
  },
  {
   "cell_type": "code",
   "execution_count": null,
   "id": "d16e5c85-d0c4-449a-9e39-a46ac25e8892",
   "metadata": {},
   "outputs": [
    {
     "name": "stdout",
     "output_type": "stream",
     "text": [
      "1.2267892\n"
     ]
    }
   ],
   "source": [
    "env = RenewableRessources(r=0.8, C=8, pR=0.1, obs=None, deltaE=0.2, sig=0.5)\n",
    "test = POstratAC(env=env, learning_rates=0.02, discount_factors=0.9, choice_intensities= 250)\n",
    "L = [] \n",
    "for k in range(100):\n",
    "    L.append(random_reward(env,test))\n",
    "print(np.mean(L))"
   ]
  },
  {
   "cell_type": "code",
   "execution_count": null,
   "id": "65f7c4ae-686b-4824-a63f-40c5a8ded8ba",
   "metadata": {},
   "outputs": [
    {
     "name": "stdout",
     "output_type": "stream",
     "text": [
      "1.2735934\n"
     ]
    }
   ],
   "source": [
    "env = RenewableRessources(r=0.8, C=8, pR=0.1, obs=[[0,1],[2,3,4],[5],[6],[7]], deltaE=0.2, sig=0.5)\n",
    "test = POstratAC(env=env, learning_rates=0.02, discount_factors=0.9, choice_intensities= 250)\n",
    "L = [] \n",
    "for k in range(100):\n",
    "    L.append(random_reward(env,test))\n",
    "print(np.mean(L))"
   ]
  },
  {
   "cell_type": "code",
   "execution_count": null,
   "id": "d86675f2-2015-47d7-9ceb-e7a95c020bbc",
   "metadata": {},
   "outputs": [
    {
     "name": "stdout",
     "output_type": "stream",
     "text": [
      "0.30748004\n"
     ]
    }
   ],
   "source": [
    "env = RenewableRessources(r=0.8, C=8, pR=0.1, obs=[[0,1,2,3,4],[5,6,7]], deltaE=0.2, sig=0.5)\n",
    "test = POstratAC(env=env, learning_rates=0.02, discount_factors=0.9, choice_intensities= 250)\n",
    "L = [] \n",
    "for k in range(100):\n",
    "    L.append(random_reward(env,test))\n",
    "print(np.mean(L))"
   ]
  },
  {
   "cell_type": "code",
   "execution_count": null,
   "id": "5eef858d-69e4-4c33-b21f-d72e7e3477dc",
   "metadata": {},
   "outputs": [],
   "source": []
  }
 ],
 "metadata": {
  "kernelspec": {
   "display_name": "python3",
   "language": "python",
   "name": "python3"
  }
 },
 "nbformat": 4,
 "nbformat_minor": 5
}
