{
 "cells": [
  {
   "attachments": {},
   "cell_type": "markdown",
   "id": "e075e3bc",
   "metadata": {},
   "source": [
    "# Helpers\n",
    "\n",
    "> Collection of helper functions"
   ]
  },
  {
   "cell_type": "code",
   "execution_count": null,
   "id": "6a959743",
   "metadata": {},
   "outputs": [],
   "source": [
    "#| default_exp Utils/Helpers"
   ]
  },
  {
   "cell_type": "raw",
   "id": "8e84f0e5",
   "metadata": {},
   "source": [
    "#| export\n",
    "from __future__ import annotations\n",
    "from typing import Iterable"
   ]
  },
  {
   "cell_type": "code",
   "execution_count": null,
   "id": "4ff15290",
   "metadata": {},
   "outputs": [],
   "source": [
    "#| export\n",
    "import jax\n",
    "import numpy as np\n",
    "import jax.numpy as jnp\n",
    "from jax import jit"
   ]
  },
  {
   "cell_type": "code",
   "execution_count": null,
   "id": "42b7270b",
   "metadata": {},
   "outputs": [],
   "source": [
    "#| export\n",
    "def make_variable_vector(variable,  # can be iterable or float or int\n",
    "                         length:int  # length of the vector\n",
    "                        ):  # vector\n",
    "    \"Turn a `variable` into a vector or check that `length` is consistent.\"\n",
    "    if hasattr(variable, '__iter__'):\n",
    "        assert len(variable) == length, 'Wrong number given'\n",
    "        return jnp.array(variable)\n",
    "    else:\n",
    "        return jnp.repeat(variable, length)"
   ]
  },
  {
   "attachments": {},
   "cell_type": "markdown",
   "id": "3a3cff72",
   "metadata": {},
   "source": [
    "For example, when providing a discount factor of 0.9 to all 5 agents, we can simply write "
   ]
  },
  {
   "cell_type": "code",
   "execution_count": null,
   "id": "883eef1d",
   "metadata": {},
   "outputs": [
    {
     "data": {
      "text/plain": [
       "Array([0.9, 0.9, 0.9, 0.9, 0.9], dtype=float32, weak_type=True)"
      ]
     },
     "execution_count": null,
     "metadata": {},
     "output_type": "execute_result"
    }
   ],
   "source": [
    "make_variable_vector(0.9, 5)"
   ]
  },
  {
   "cell_type": "code",
   "execution_count": null,
   "id": "74e60339",
   "metadata": {},
   "outputs": [],
   "source": [
    "#| export\n",
    "@jit\n",
    "def compute_stationarydistribution(Tkk:jnp.ndarray):  # Transition matrix\n",
    "    \"\"\"Compute stationary distribution for transition matrix `Tkk`.\"\"\"\n",
    "    # eigenvectors\n",
    "    oeival, oeivec = jnp.linalg.eig(Tkk.T)\n",
    "    oeival = oeival.real\n",
    "    oeivec = oeivec.real\n",
    "    \n",
    "    get_mask = lambda tol: jnp.abs(oeival - 1) < tol\n",
    "  \n",
    "    tolerances = jax.lax.map(lambda x: 0.1**x, jnp.arange(1,16,1))\n",
    "    masks = jax.lax.map(get_mask, tolerances)\n",
    "    ix = jnp.max(jnp.where(masks.sum(-1)>=1, jnp.arange(len(masks)), -1))\n",
    "    mask = masks[ix]\n",
    "    tol = tolerances[ix]\n",
    "    \n",
    "    # obtain stationary distribution\n",
    "    meivec = jnp.where(mask, oeivec, -42)\n",
    "    \n",
    "    dist = meivec / meivec.sum(axis=0, keepdims=True)\n",
    "    dist = jnp.where(dist < tol, 0, dist)\n",
    "    dist = dist / dist.sum(axis=0, keepdims=True)\n",
    "    \n",
    "    return jnp.where(meivec==-42, -10, dist)"
   ]
  },
  {
   "attachments": {},
   "cell_type": "markdown",
   "id": "52c514f9",
   "metadata": {},
   "source": [
    "For example, let's create a random transition matrix with dimension 4:"
   ]
  },
  {
   "cell_type": "code",
   "execution_count": null,
   "id": "290e3c93",
   "metadata": {},
   "outputs": [],
   "source": [
    "Tkk = np.random.rand(4,4)"
   ]
  },
  {
   "attachments": {},
   "cell_type": "markdown",
   "id": "c2aac490",
   "metadata": {},
   "source": [
    "A transition matrix contains probabilities, which need to sum up to 1."
   ]
  },
  {
   "cell_type": "code",
   "execution_count": null,
   "id": "90f77103",
   "metadata": {},
   "outputs": [],
   "source": [
    "Tkk = Tkk / Tkk.sum(-1, keepdims=True) "
   ]
  },
  {
   "attachments": {},
   "cell_type": "markdown",
   "id": "0c4c6187",
   "metadata": {},
   "source": [
    "`compute_stationarydistribution` should return a 4 by 4 matrix with the stationary distribution in the first column, and the rest filled with a dummy value of -10. This was done to make it work with jax just-in-time-compilation."
   ]
  },
  {
   "cell_type": "code",
   "execution_count": null,
   "id": "d73c95e7",
   "metadata": {},
   "outputs": [
    {
     "data": {
      "text/plain": [
       "Array([[  0.2, -10. , -10. , -10. ],\n",
       "       [  0.2, -10. , -10. , -10. ],\n",
       "       [  0.1, -10. , -10. , -10. ],\n",
       "       [  0.5, -10. , -10. , -10. ]], dtype=float32)"
      ]
     },
     "execution_count": null,
     "metadata": {},
     "output_type": "execute_result"
    }
   ],
   "source": [
    "compute_stationarydistribution(Tkk).round(1)"
   ]
  },
  {
   "cell_type": "code",
   "execution_count": null,
   "id": "1fc1c9d3",
   "metadata": {},
   "outputs": [],
   "source": [
    "#| hide\n",
    "import nbdev; nbdev.nbdev_export()"
   ]
  }
 ],
 "metadata": {
  "kernelspec": {
   "display_name": "python3",
   "language": "python",
   "name": "python3"
  }
 },
 "nbformat": 4,
 "nbformat_minor": 5
}
