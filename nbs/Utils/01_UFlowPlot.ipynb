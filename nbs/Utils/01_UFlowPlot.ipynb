{
 "cells": [
  {
   "attachments": {},
   "cell_type": "markdown",
   "id": "1634d730-ac2b-43c0-9744-8ce703655d43",
   "metadata": {},
   "source": [
    "# FlowPlot\n",
    "\n",
    "> Create beautiful plots of the CRLD flow in phase space"
   ]
  },
  {
   "cell_type": "code",
   "execution_count": null,
   "id": "bb3d5f6a-b1ad-4421-bd2a-c9bce9819154",
   "metadata": {},
   "outputs": [],
   "source": [
    "#| default_exp Utils/FlowPlot"
   ]
  },
  {
   "cell_type": "code",
   "execution_count": null,
   "id": "b5c74b06-5315-4c93-8f76-436fe7644bfa",
   "metadata": {},
   "outputs": [],
   "source": [
    "#| hide\n",
    "# Imports for the nbdev development environment\n",
    "from nbdev.showdoc import *\n",
    "from fastcore.test import *"
   ]
  },
  {
   "cell_type": "code",
   "execution_count": null,
   "id": "3a2e2524-539d-432f-a913-270f6461514c",
   "metadata": {},
   "outputs": [],
   "source": [
    "#| hide\n",
    "%load_ext autoreload\n",
    "%autoreload 2"
   ]
  },
  {
   "attachments": {},
   "cell_type": "markdown",
   "id": "3c0138dd",
   "metadata": {},
   "source": [
    "## Examples"
   ]
  },
  {
   "cell_type": "code",
   "execution_count": null,
   "id": "d202efe4",
   "metadata": {},
   "outputs": [],
   "source": [
    "#|eval: true notest\n",
    "from pyCRLD.Agents.StrategyActorCritic import stratAC\n",
    "from pyCRLD.Environments.SocialDilemma import SocialDilemma\n",
    "\n",
    "from pyCRLD.Utils import FlowPlot as fp\n",
    "\n",
    "import numpy as np"
   ]
  },
  {
   "cell_type": "code",
   "execution_count": null,
   "id": "99a2708d",
   "metadata": {},
   "outputs": [],
   "source": [
    "env = SocialDilemma(R=1.0, T=0.8, S=-0.5, P=0.0)\n",
    "mae = stratAC(env=env, learning_rates=0.1, discount_factors=0.9)\n",
    "x = ([0], [0], [0])\n",
    "y = ([1], [0], [0])\n",
    "flowarrow_points = np.linspace(0.01 ,0.99, 9)\n",
    "standards = [mae, x, y, flowarrow_points]"
   ]
  },
  {
   "attachments": {},
   "cell_type": "markdown",
   "id": "9c0e322f",
   "metadata": {},
   "source": [
    "### Standard quiver flowplot\n",
    "showing reward-predition error arrows"
   ]
  },
  {
   "cell_type": "code",
   "execution_count": null,
   "id": "9acb128a",
   "metadata": {},
   "outputs": [],
   "source": [
    "ax = fp.plot_strategy_flow(*standards)\n",
    "ax[0].set_xlabel(\"Agent 0's cooperation probability\")\n",
    "ax[0].set_ylabel(\"Agent 1's cooperation probability\");"
   ]
  },
  {
   "attachments": {},
   "cell_type": "markdown",
   "id": "b3bfb471",
   "metadata": {},
   "source": [
    "### Standard quiver flowplot with trajectory"
   ]
  },
  {
   "cell_type": "code",
   "execution_count": null,
   "id": "93f51c82",
   "metadata": {},
   "outputs": [],
   "source": [
    "ax = fp.plot_strategy_flow(*standards)\n",
    "ax[0].set_xlabel(\"Agent 0's cooperation probability\")\n",
    "ax[0].set_ylabel(\"Agent 1's cooperation probability\")\n",
    "\n",
    "X = mae.random_softmax_strategy()\n",
    "trj, fpr = mae.trajectory(X, Tmax=1000, tolerance=1e-6)\n",
    "print(\"Trajectory length:\", len(trj))\n",
    "fp.plot_trajectories([trj], x, y, fprs=[fpr], axes=ax);"
   ]
  },
  {
   "attachments": {},
   "cell_type": "markdown",
   "id": "f1521f90",
   "metadata": {},
   "source": [
    "### Quiver plot with strategy differences\n",
    "Notices how the edges of the phase space differ compared to the plots with reward-prediction errors above."
   ]
  },
  {
   "cell_type": "code",
   "execution_count": null,
   "id": "3bb23284",
   "metadata": {},
   "outputs": [],
   "source": [
    "ax = fp.plot_strategy_flow(*standards, use_RPEarrows=False)\n",
    "ax[0].set_xlabel(\"Agent 0's cooperation probability\")\n",
    "ax[0].set_ylabel(\"Agent 1's cooperation probability\");"
   ]
  },
  {
   "attachments": {},
   "cell_type": "markdown",
   "id": "26d3b3a6",
   "metadata": {},
   "source": [
    "### Streamplot w RPE\n",
    "with reward-prediciton errors"
   ]
  },
  {
   "cell_type": "code",
   "execution_count": null,
   "id": "b7cbaf10",
   "metadata": {},
   "outputs": [],
   "source": [
    "ax = fp.plot_strategy_flow(*standards, kind=\"streamplot\")\n",
    "ax[0].set_xlabel(\"Agent 0's cooperation probability\")\n",
    "ax[0].set_ylabel(\"Agent 1's cooperation probability\");\n",
    "ax[0].set_xlim(0, 1); ax[0].set_ylim(0, 1);"
   ]
  },
  {
   "attachments": {},
   "cell_type": "markdown",
   "id": "82f3139d",
   "metadata": {},
   "source": [
    "### Streamplot w dX\n",
    "with strategy differences"
   ]
  },
  {
   "cell_type": "code",
   "execution_count": null,
   "id": "ebf46ab0",
   "metadata": {},
   "outputs": [],
   "source": [
    "ax = fp.plot_strategy_flow(*standards, kind=\"streamplot\", use_RPEarrows=False)\n",
    "ax[0].set_xlabel(\"Agent 0's cooperation probability\")\n",
    "ax[0].set_ylabel(\"Agent 1's cooperation probability\");\n",
    "ax[0].set_xlim(0, 1); ax[0].set_ylim(0, 1);"
   ]
  },
  {
   "attachments": {},
   "cell_type": "markdown",
   "id": "ef33c647-d656-4bd5-81ab-c7f8cf742e05",
   "metadata": {},
   "source": [
    "## Core methods"
   ]
  },
  {
   "cell_type": "code",
   "execution_count": null,
   "id": "cafd9ac2",
   "metadata": {},
   "outputs": [],
   "source": [
    "#| export\n",
    "import numpy as np\n",
    "import matplotlib as mpl\n",
    "import matplotlib.pyplot as plt\n",
    "import itertools as it\n",
    "\n",
    "from collections.abc import Callable\n",
    "\n",
    "from pyDOE import lhs\n",
    "\n",
    "from fastcore.utils import *"
   ]
  },
  {
   "cell_type": "code",
   "execution_count": null,
   "id": "f1392c67-ee0a-4c17-a842-02ccbaa1b5de",
   "metadata": {},
   "outputs": [],
   "source": [
    "#| export\n",
    "def plot_strategy_flow(mae,  # CRLD multi-agent environment object\n",
    "                       x:tuple,  # which phase space axes to plot along x axes\n",
    "                       y:tuple,  # which phase space axes to plot along y axes\n",
    "                       flowarrow_points,  # specify range & resolution of flow arrows \n",
    "                       NrRandom:int=3,  # how many random (in the other dimensions) stratgies for averaging \n",
    "                       use_RPEarrows=True,  # Use reward-prediction error arrows?, otherwise use strategy differences\n",
    "                       col:str='LEN',  # color indicates either strength of flow via colormap, otherwise a fixed color name\n",
    "                       cmap='viridis',  # Colormap\n",
    "                       kind='quiver+samples', # Kind of plot: \"streamplot\", \"quiver+samples\", \"quiver\", ...\n",
    "                       sf=0.5,  # Scale factor for quiver arrows\n",
    "                       lw=1.0,  # Line width for streamplot\n",
    "                       dens=0.75,  # Density for streamplot\n",
    "                       acts=None,  # Action descriptions\n",
    "                       conds=None,  # Conditions descriptions \n",
    "                       axes:Iterable=None,  # Axes to plot into\n",
    "                       verbose=False,  # shall I talk to you while working?\n",
    "                       ):  \n",
    "    \"\"\"\n",
    "    Create a flow plot in strategy space.\n",
    "    \"\"\"\n",
    "    # Checks and balances\n",
    "    xlens, amx, lens = _checks_and_balances(x, y)\n",
    "    \n",
    "    # Fig and Axes\n",
    "    axes = _prepare_axes(axes, xlens)\n",
    "\n",
    "    # The Plots\n",
    "    difffunc = _dTDerror_s if use_RPEarrows else _dXisa_s  # which difference function to use\n",
    "    for i, (xinds, yinds) in enumerate(zip(it.product(*x), it.product(*y))): # go through each plot sequentially \n",
    "        # obtain the data to plot\n",
    "        X, Y, dX, dY = _data_to_plot(mae, flowarrow_points, xinds, yinds, NrRandom, difffunc,\n",
    "                                     phasespace_items=_strategies, verbose=verbose)\n",
    "        # do the plot\n",
    "        axes[i] = _plot(dX, dY, X, Y, ax=axes[i], sf=sf, kind=kind, lw=lw, dens=dens, col=col, cmap=cmap)\n",
    "\n",
    "        \n",
    "    # Decorations\n",
    "    lens = max(xlens)\n",
    "    if acts is None:\n",
    "        acts = [f'act.{i}' for i in range(mae.M)]\n",
    "        acts = mae.env.Aset\n",
    "    if conds is None:\n",
    "        conds = [f'Cond. {i}' for i in range(lens)]\n",
    "    \n",
    "    if lens > 1 and amx == 1: # plotting over conditions\n",
    "        for c, ax in enumerate(axes):\n",
    "            ax.set_title(conds[c])\n",
    "            ax.set_xlabel(f\"Agnt {x[0][0]+1}'s prob. for {acts[x[0][0]][x[2][0]]}\")\n",
    "            ax.set_ylabel(f\"Agnt {y[0][0]+1}'s prob. for {acts[x[0][0]][y[2][0]]}\")\n",
    "            ax.xaxis.labelpad = -8; ax.yaxis.labelpad = -8\n",
    "            ax.set_xticks([0, 1]); ax.set_yticks([0, 1])\n",
    "    return axes\n"
   ]
  },
  {
   "cell_type": "code",
   "execution_count": null,
   "id": "0d1a2f94-85d2-4442-a6ed-18679491d948",
   "metadata": {},
   "outputs": [],
   "source": [
    "#| export\n",
    "def plot_trajectories(Xtrajs:Iterable,  # Iterable of phase space trajectories \n",
    "                      x:tuple,  # which phase space axes to plot along x axes\n",
    "                      y:tuple,  # which phase space axes to plot along y axes\n",
    "                      cols:Iterable=[\"r\"],  # Colors to iterate through                      \n",
    "                      alphas:Iterable=[1.0],  # Alpha values to iterate through\n",
    "                      lss:Iterable=[\"-\"],  # Linestyles to iterate through\n",
    "                      lws:Iterable=[2],  # Linewidths to iterate through\n",
    "                      mss:Iterable=[None],  # Endmarkers to iterate through\n",
    "                      msss:Iterable=[0],  # Endmarker sizes to iterate through\n",
    "                      fprs:Union[Iterable,bool]=None,  # Iteralbe indicating which trajectories reached a fixed point \n",
    "                      plot_startmarker:bool=True, # plot a marker at the initial condition \n",
    "                      axes:Iterable=None,  # Axes to plot into\n",
    "                      submean:bool=False):\n",
    "    \"\"\"\n",
    "    Plot multiple trajectories in phase space. \n",
    "    \"\"\"\n",
    "    # Checks and balances\n",
    "    xlens, amx, lens = _checks_and_balances(x, y)\n",
    "    \n",
    "    # Fig and Axes\n",
    "    axes = _prepare_axes(axes, xlens)\n",
    "\n",
    "    # Fixed point reached?\n",
    "    if fprs is None:\n",
    "        fprs = [False for _ in range(len(Xtrajs))]\n",
    "\n",
    "    # The Plots\n",
    "    cols = it.cycle(cols); lss = it.cycle(lss); lws = it.cycle(lws);\n",
    "    mss = it.cycle(mss); msss = it.cycle(msss)\n",
    "    alphas = it.cycle(alphas);\n",
    "    for i, (xinds, yinds) in enumerate(zip(it.product(*x), it.product(*y))):\n",
    "        for j, Xtraj in enumerate(Xtrajs):\n",
    "            \n",
    "            Xtraj = Xtraj - Xtraj.mean(-1, keepdims=True) if submean else Xtraj\n",
    "                \n",
    "            xs = np.moveaxis(Xtraj, 0, -1)[xinds]\n",
    "            ys = np.moveaxis(Xtraj, 0, -1)[yinds]\n",
    "            \n",
    "            c =  next(cols)\n",
    "            w = next(lws)\n",
    "            m = next(mss)\n",
    "            ms = next(msss)\n",
    "            alph = next(alphas)\n",
    "            axes[i].plot(xs, ys, lw=w, ls=next(lss), color=c, alpha=alph,\n",
    "                         marker=m, markersize=ms)\n",
    "            \n",
    "            if plot_startmarker:\n",
    "                axes[i].scatter(xs[0], ys[0], color=c, marker='x', s=12*w, alpha=alph)\n",
    "            if fprs[j]:\n",
    "                axes[i].scatter(xs[-1], ys[-1], color=c, marker='o', s=20*w,\n",
    "                                alpha=alph)\n",
    "            \n",
    "    return axes"
   ]
  },
  {
   "attachments": {},
   "cell_type": "markdown",
   "id": "7b7e8715-68f2-4e62-a67f-62976dba7717",
   "metadata": {},
   "source": [
    "## Helpers"
   ]
  },
  {
   "cell_type": "code",
   "execution_count": null,
   "id": "3081c024-87f3-4241-9ee8-3165a617cab0",
   "metadata": {},
   "outputs": [],
   "source": [
    "#| export\n",
    "def _checks_and_balances(x:tuple,  # which phase space axes to plot along x axes\n",
    "                         y:tuple   # which phase space axes to plot along y axes\n",
    "                         ) -> tuple: # (lengths for each dimension, index of dimension to iter, length of iter)\n",
    "    \"\"\"Check the format of the `x` and `y` parameter.\"\"\"\n",
    "    \n",
    "    xlens = np.array(list(map(len,x))); ylens = np.array(list(map(len,y)))\n",
    "    assert sum(xlens == 1) >= 2, \"min 2 elements must have length 1\"\n",
    "    assert sum(ylens == 1) >= 2, \"min 2 elements must have length 1\"\n",
    "    \n",
    "    amx = np.argmax(xlens); amy = np.argmax(ylens)\n",
    "    if amx > 1:\n",
    "        assert amx == amy, \"x and y must have same iter position\"\n",
    "        assert x[amx] == y[amy], \"x and y must have same iter position\"  \n",
    "    lens = max(xlens)\n",
    "    return xlens, amx, lens "
   ]
  },
  {
   "cell_type": "code",
   "execution_count": null,
   "id": "da06afdb-46e4-47fd-9a5b-fd129092c63a",
   "metadata": {},
   "outputs": [],
   "source": [
    "show_doc(_checks_and_balances)"
   ]
  },
  {
   "attachments": {},
   "cell_type": "markdown",
   "id": "d1805e7a-a9b2-4139-a6e4-d74d5be48683",
   "metadata": {},
   "source": [
    "Let's say we want to plot the probability of cooperation of the 0th agent on the $x$ axis and of the 1st agent on the $y$ axis for states 2,3 and 5, we specify (assuming the cooperation is the 0th action)"
   ]
  },
  {
   "cell_type": "code",
   "execution_count": null,
   "id": "e5883ffd-879b-49af-927e-712742e56f05",
   "metadata": {},
   "outputs": [],
   "source": [
    "x = ([0], [2,3,5], [0])\n",
    "y = ([1], [2,3,5], [0])\n",
    "_checks_and_balances(x, y)"
   ]
  },
  {
   "cell_type": "code",
   "execution_count": null,
   "id": "312de95e-0582-46c8-b1e8-aa78fe963567",
   "metadata": {},
   "outputs": [],
   "source": [
    "#| export\n",
    "def _prepare_axes(axes:Iterable,  # Axes to plot into\n",
    "                  xlens:tuple  # Lengths for each dimension of `x` and `y`\n",
    "                 ) -> Iterable:  # of matplotlib axes     \n",
    "    \"\"\"\n",
    "    Check whether `axes` have been provided correctly.\n",
    "    If `axes` haven't been provided, provide them.\n",
    "    \"\"\"\n",
    "    lens = max(xlens)\n",
    "    if axes is None:\n",
    "        fig, axes = plt.subplots(1, lens, figsize=(3.2*lens, 2.8))\n",
    "        plt.subplots_adjust(wspace=0.4)\n",
    "    if not hasattr(axes, '__iter__'):\n",
    "        axes = [axes]\n",
    "    assert len(axes) == lens, \"Number of axes must fit to x and y\"\n",
    "    \n",
    "    return axes"
   ]
  },
  {
   "cell_type": "code",
   "execution_count": null,
   "id": "caef13ea-d7e8-4b4c-9d34-2bb98d679d49",
   "metadata": {},
   "outputs": [],
   "source": [
    "show_doc(_prepare_axes)"
   ]
  },
  {
   "cell_type": "code",
   "execution_count": null,
   "id": "984b0ddc-ab56-4943-8c49-22a34fa9bc1f",
   "metadata": {},
   "outputs": [],
   "source": [
    "_prepare_axes(None, [1,3,1])"
   ]
  },
  {
   "cell_type": "code",
   "execution_count": null,
   "id": "53d976ce-6926-42a7-b448-52c01843ae7d",
   "metadata": {},
   "outputs": [],
   "source": [
    "#| export\n",
    "def _dXisa_s(Xisa_s:Iterable, # of joint strategies `Xisa`\n",
    "            mae  # CRLD multi-agent environment object\n",
    "            ) -> np.ndarray:  # joint strategy differences \n",
    "    \"\"\"Compute `Xisa`(t-1)-`Xisa`(t) for all `Xisa_s`.\"\"\"\n",
    "    return np.array([mae.step(Xisa)[0] - Xisa for Xisa in Xisa_s])"
   ]
  },
  {
   "cell_type": "code",
   "execution_count": null,
   "id": "be7a9227-a903-4080-88b2-ae62382e7947",
   "metadata": {},
   "outputs": [],
   "source": [
    "show_doc(_dXisa_s)"
   ]
  },
  {
   "cell_type": "code",
   "execution_count": null,
   "id": "75f6a208-c7ff-43b3-84c2-275a7907a661",
   "metadata": {},
   "outputs": [],
   "source": [
    "from pyCRLD.Agents.StrategyActorCritic import stratAC\n",
    "from pyCRLD.Environments.SocialDilemma import SocialDilemma"
   ]
  },
  {
   "cell_type": "code",
   "execution_count": null,
   "id": "86586d12-17e6-4048-9898-babb7ec4b67c",
   "metadata": {},
   "outputs": [],
   "source": [
    "env = SocialDilemma(R=1.0, T=0.8, S=-0.5, P=0.0)\n",
    "mae = stratAC(env=env, learning_rates=0.1, discount_factors=0.9)\n",
    "\n",
    "Xisa_s = [mae.random_softmax_strategy() for _ in range(7)]\n",
    "_dXisa_s(Xisa_s, mae).shape"
   ]
  },
  {
   "cell_type": "code",
   "execution_count": null,
   "id": "5e4b3814-ca2f-475c-a48a-5b457b666ccd",
   "metadata": {},
   "outputs": [],
   "source": [
    "#| export\n",
    "def _dTDerror_s(Xisa_s:Iterable, # of joint strategies `Xisa`\n",
    "              mae  # CRLD multi-agent environment object\n",
    "            ) -> np.ndarray:  # joint reward-prediction errors\n",
    "    \"\"\"Compute reward-prediction errors `TDerror_s` for Xs.\"\"\"\n",
    "    return np.array([mae.TDerror(Xisa, norm=True) for Xisa in Xisa_s])"
   ]
  },
  {
   "cell_type": "code",
   "execution_count": null,
   "id": "24522d42-08eb-44c7-aad8-a25aff41c311",
   "metadata": {},
   "outputs": [],
   "source": [
    "show_doc(_dTDerror_s)"
   ]
  },
  {
   "cell_type": "code",
   "execution_count": null,
   "id": "6b4e2a5b-0868-44a0-8a18-b27178e516f7",
   "metadata": {},
   "outputs": [],
   "source": [
    "env = SocialDilemma(R=1.0, T=0.8, S=-0.5, P=0.0)\n",
    "mae = stratAC(env=env, learning_rates=0.1, discount_factors=0.9)\n",
    "\n",
    "Xisa_s = [mae.random_softmax_strategy() for _ in range(7)]\n",
    "_dTDerror_s(Xisa_s, mae).shape"
   ]
  },
  {
   "cell_type": "code",
   "execution_count": null,
   "id": "8d16385f-3d07-4167-8666-1b25c2a53bd1",
   "metadata": {},
   "outputs": [],
   "source": [
    "#| export\n",
    "def _strategies(mae,  # CRLD multi-agent environment object\n",
    "                xinds:tuple,  # of indices of the phase space item to plot along the x axis\n",
    "                yinds:tuple,  # of indices of the phase space item to plot along the y axis\n",
    "                xval:float,  # the value of the phase space item to plot along the x axis\n",
    "                yval:float,  # the value of the phase space item to plot along the y axis\n",
    "                NrRandom,  # how many random (in the other dimensions) stratgies for averaging\n",
    "               ) -> np.ndarray: # Array of joint strategies\n",
    "    \"\"\"\n",
    "    Creates strategies (as a particular type of phase space item) for one ax plot point.\n",
    "    All strategies have value `xval` at the `xinds` index and value `yval` at the `yinds`. \n",
    "    \"\"\"   \n",
    "    N, C, M = mae.N, mae.Q, mae.M  # Number of agents, conditions, actions\n",
    "    # Xs = np.random.rand(NrRandom, N, C, M)  # random policies\n",
    "    Xs = lhs(N*C*M, NrRandom).reshape(NrRandom, N, C, M)  # using latin hypercube sampling\n",
    "    Xs = Xs / Xs.sum(axis=-1, keepdims=True)  # properly normalised\n",
    "    \n",
    "    xi, xc, xa = xinds; xa_ = tuple(set(range(M)) - set([xa]))\n",
    "    yi, yc, ya = yinds; ya_ = tuple(set(range(M)) - set([ya]))\n",
    "    \n",
    "    Xs[:, xi, xc, xa] = xval  # setting x and y values\n",
    "    Xs[:, yi, yc, ya] = yval\n",
    "    \n",
    "    # normalisation\n",
    "    Xs[:,xi,xc,xa_] = (1-Xs[0, xi, xc, xa]) * Xs[:,xi,xc,xa_]\\\n",
    "        / np.sum(Xs[:,xi,xc,xa_], axis=-1, keepdims=True)\n",
    "    Xs[:,yi,yc,ya_] = (1-Xs[0, yi, yc, ya]) * Xs[:,yi,yc,ya_]\\\n",
    "        / np.sum(Xs[:,yi,yc,ya_], axis=-1, keepdims=True)\n",
    "    \n",
    "    return Xs"
   ]
  },
  {
   "cell_type": "code",
   "execution_count": null,
   "id": "dfa4f3bb-2db0-4b02-824d-beb4d7f281c7",
   "metadata": {},
   "outputs": [],
   "source": [
    "show_doc(_strategies)"
   ]
  },
  {
   "attachments": {},
   "cell_type": "markdown",
   "id": "2c1c695b-b632-481d-9cb5-21105a14cae4",
   "metadata": {},
   "source": [
    "For example, given"
   ]
  },
  {
   "cell_type": "code",
   "execution_count": null,
   "id": "63ee3af8-6463-4e67-8746-a6f796769040",
   "metadata": {},
   "outputs": [],
   "source": [
    "env = SocialDilemma(R=1.0, T=0.8, S=-0.5, P=0.0)\n",
    "mae = stratAC(env=env, learning_rates=0.1, discount_factors=0.9)"
   ]
  },
  {
   "attachments": {},
   "cell_type": "markdown",
   "id": "4fd99345-596b-4e72-a449-b906c9834019",
   "metadata": {},
   "source": [
    "the following parameters give"
   ]
  },
  {
   "cell_type": "code",
   "execution_count": null,
   "id": "46fb5b0e-590d-4dbe-bd75-e95a8b542228",
   "metadata": {},
   "outputs": [],
   "source": [
    "xinds = (0, 0, 0)  # Plot agent 0's state-action item 0, 0\n",
    "yinds = (1, 0, 0)  # Plot agent 1's state-action item 0, 0\n",
    "NrRandom = 3\n",
    "\n",
    "strats = _strategies(mae, xinds, yinds, xval=0.2, yval=0.4, NrRandom=NrRandom)\n",
    "assert strats.shape[0] == NrRandom\n",
    "strats.shape"
   ]
  },
  {
   "attachments": {},
   "cell_type": "markdown",
   "id": "d1fa2266-a4e2-4dec-ad02-2d6c93fc8e6a",
   "metadata": {},
   "source": [
    "The first dimension of the `_strategies` return holds the randomization in the other dimensions than given by `xinds` and `yinds`.\n",
    "Note that the randomization in the other dimensions makes no sense in a stateless normal-form game since there are no other dimensions."
   ]
  },
  {
   "cell_type": "code",
   "execution_count": null,
   "id": "73b5df39-bb2e-4a34-885d-0f710012c360",
   "metadata": {},
   "outputs": [],
   "source": [
    "#| export\n",
    "def _data_to_plot(mae,  # CRLD multi-agent environment object\n",
    "                  flowarrow_points:Iterable,  # range & resolution of flow arrows \n",
    "                  xinds:tuple,  # of indices of the phase space object to plot along the x axis\n",
    "                  yinds:tuple,  # of indices of the phase space object to plot along the y axis\n",
    "                  NrRandom:int,  # how many random (in the other dimensions) stratgies for averaging \n",
    "                  difffunc:Callable,  # to compute which kind of arrows to plot (RPE or dX)\n",
    "                  phasespace_items:Callable,  # to obtain phase space items for one ax plot point\n",
    "                  verbose=False  # shall I talk to you while working?\n",
    "                 ) -> tuple:  # meshgrid for (X, Y, dX, dY)\n",
    "        \n",
    "    l = len(flowarrow_points)\n",
    "    X, Y = np.meshgrid(flowarrow_points, flowarrow_points)\n",
    "    dX, dY = np.zeros((l, l, NrRandom)), np.zeros((l, l, NrRandom))\n",
    "\n",
    "    for i, xval in enumerate(flowarrow_points):\n",
    "        for j, yval in enumerate(flowarrow_points):\n",
    "            if verbose:\n",
    "                print(\"\\r [plot] generating data\",\n",
    "                      str(np.round((i*l+j)/l**2,2)*100)[:2], \"%\", end=\"   \")\n",
    "            \n",
    "            psi_s = phasespace_items(mae, xinds=xinds, yinds=yinds, xval=xval, yval=yval,\n",
    "                                     NrRandom=NrRandom)\n",
    "                        \n",
    "            dpsi_s = difffunc(psi_s, mae)\n",
    "            dX[j, i] = np.moveaxis(dpsi_s, 0, -1)[xinds]\n",
    "            dY[j, i] = np.moveaxis(dpsi_s, 0, -1)[yinds]\n",
    "            \n",
    "    return X, Y, dX, dY"
   ]
  },
  {
   "cell_type": "code",
   "execution_count": null,
   "id": "f04ed3a4-2591-478d-a129-ba923bcbfd8f",
   "metadata": {},
   "outputs": [],
   "source": [
    "show_doc(_data_to_plot)"
   ]
  },
  {
   "attachments": {},
   "cell_type": "markdown",
   "id": "65c38a10-8437-423a-afc3-2b13fc848c2e",
   "metadata": {},
   "source": [
    "For example, given"
   ]
  },
  {
   "cell_type": "code",
   "execution_count": null,
   "id": "f38dba28-82cc-4a7f-9e64-6b0b8b8472a7",
   "metadata": {},
   "outputs": [],
   "source": [
    "env = SocialDilemma(R=1.0, T=0.8, S=-0.5, P=0.0)\n",
    "mae = stratAC(env=env, learning_rates=0.1, discount_factors=0.9)"
   ]
  },
  {
   "attachments": {},
   "cell_type": "markdown",
   "id": "4b87761b-8642-42c3-be07-1cfee794d352",
   "metadata": {},
   "source": [
    "the following parameters give"
   ]
  },
  {
   "cell_type": "code",
   "execution_count": null,
   "id": "cc9911ab-d32b-441b-93e1-8f7346562a39",
   "metadata": {},
   "outputs": [],
   "source": [
    "xinds = (0, 0, 0)  # Plot agent 0's state-action item 0, 0\n",
    "yinds = (1, 0, 0)  # Plot agent 1's state-action item 0, 0\n",
    "flowarrow_points = np.array([0.1, 0.3, 0.5, 0.7, 0.9])\n",
    "NrRandom=7\n",
    "difffunc = _dTDerror_s\n",
    "phasespace_items = _strategies\n",
    "verbose = True\n",
    "\n",
    "X, Y, dX, dY = _data_to_plot(mae, flowarrow_points, xinds, yinds, NrRandom, difffunc,\n",
    "                             phasespace_items=_strategies, verbose=verbose)\n",
    "\n",
    "assert X.shape == Y.shape; print(\"\\nShape of `X` and `Y`:\", X.shape)\n",
    "assert dX.shape == dY.shape; print(\"Shape of `dX` and `dY`:\", dX.shape)\n",
    "assert dX.shape[-1] == NrRandom"
   ]
  },
  {
   "attachments": {},
   "cell_type": "markdown",
   "id": "25f49205-39e5-4c2c-8979-d98d0b8b2edf",
   "metadata": {},
   "source": [
    "Let $l$ be the number  of the `flowarrow_points`, than `X` and `Y` have shape of ($l$, $l$). \n",
    "`dX` and `dY` have shape of ($l$, $l$, Number of randomizations). "
   ]
  },
  {
   "cell_type": "code",
   "execution_count": null,
   "id": "cc27eccc-7c1f-4f5d-93ce-a9f5498546b1",
   "metadata": {},
   "outputs": [],
   "source": [
    "#| export\n",
    "def _plot(dX:np.ndarray,  # differences in x dimension\n",
    "          dY:np.ndarray,  # differences in y dimension\n",
    "          X:np.ndarray,  # meshgrid in x dimension\n",
    "          Y:np.ndarray,  # meshgrid in y dimension\n",
    "          ax=None,  # Individual axis to plot into\n",
    "          sf=1.0,  # Scale factor for quiver arrows\n",
    "          col='LEN', # what should the color indicatie\n",
    "          cmap=\"viridis\",  # Colormap\n",
    "          kind='quiver+samples',  # Kind of plot: \"quiver\", \"quiver+samples\", \"quiver\", ...\n",
    "          lw=1.0,  # Line width\n",
    "          dens=0.75):  # Density\n",
    "    \"\"\"\n",
    "    Plots the flow for one condition into one axes\n",
    "    \"\"\"\n",
    "    if ax is None:\n",
    "        _, ax = plt.subplots(1,1, figsize=(4,4))\n",
    "        \n",
    "    if kind == \"streamplot\":\n",
    "        DX = dX.mean(axis=-1)\n",
    "        DY = dY.mean(axis=-1)\n",
    "        LEN = (DX**2 + DY**2)**0.5\n",
    "        col = LEN if col==\"LEN\" else col\n",
    "        ax.streamplot(X, Y, DX, DY, color=LEN, linewidth=lw, cmap=cmap,\n",
    "                      density=dens)\n",
    "        \n",
    "    elif kind.startswith('quiver'):\n",
    "        qkwargs = {\"units\":\"xy\", \"angles\": \"xy\", \"scale\":None, # quiver parameters\n",
    "                   \"scale_units\": \"xy\", \"headwidth\": 5, \"pivot\": \"tail\"}\n",
    "    \n",
    "        if kind.endswith('samples'):  # plot inidividual samples\n",
    "            Nr = dX.shape[-1]\n",
    "            for i in range(Nr):\n",
    "                DX = dX[:, :, i]\n",
    "                DY = dY[:, :, i]\n",
    "                \n",
    "                if col == \"LEN\":\n",
    "                    LEN = (DX**2 + DY**2)**0.5 \n",
    "                    ax.quiver(X, Y, *_scale(DX, DY, sf), LEN, alpha=1/Nr, cmap=cmap, **qkwargs)\n",
    "                else:\n",
    "                    ax.quiver(X, Y, *_scale(DX, DY, sf), alpha=1/Nr, color=col, **qkwargs) \n",
    "\n",
    "        DX = dX.mean(axis=-1)\n",
    "        DY = dY.mean(axis=-1)\n",
    "        if col == \"LEN\":\n",
    "            LEN = (DX**2 + DY**2)**0.5\n",
    "            ax.quiver(X, Y, *_scale(DX, DY, sf), LEN, cmap=cmap, **qkwargs)\n",
    "        else:\n",
    "            ax.quiver(X, Y, *_scale(DX, DY, sf), color=col, **qkwargs)        \n",
    "    return ax"
   ]
  },
  {
   "cell_type": "code",
   "execution_count": null,
   "id": "1ab6c081-0234-4b41-85d4-d8f3a11dc8a8",
   "metadata": {},
   "outputs": [],
   "source": [
    "show_doc(_plot)"
   ]
  },
  {
   "cell_type": "code",
   "execution_count": null,
   "id": "749b8f48-df38-45b9-a6b9-c01aabfcc9e5",
   "metadata": {},
   "outputs": [],
   "source": [
    "#| export\n",
    "def _scale(x:float,   # x dimension \n",
    "           y:float,   # y dimension\n",
    "           a:float    # scaling factor\n",
    "          )-> tuple:  # scaled (x,y)\n",
    "    \n",
    "    \"\"\"\n",
    "    Scales length of the (`x`, `y`) vector accoring to length to the power of `a`.\n",
    "    \"\"\"\n",
    "    l = (x**2 + y**2)**(1/2)\n",
    "    l = l + (l==0)\n",
    "    k = l**a\n",
    "    return k/l * x, k/l * y"
   ]
  },
  {
   "cell_type": "code",
   "execution_count": null,
   "id": "76f687f4-f834-4448-b17e-bb1a89636325",
   "metadata": {},
   "outputs": [],
   "source": [
    "show_doc(_scale)"
   ]
  },
  {
   "attachments": {},
   "cell_type": "markdown",
   "id": "dc3dc79f-1818-45db-a1a7-37f25b0f64ba",
   "metadata": {},
   "source": [
    "A scale factor of `0` makes all vectors equally large."
   ]
  },
  {
   "cell_type": "code",
   "execution_count": null,
   "id": "77ae0768-cf28-4a72-813a-ea3b6a001495",
   "metadata": {},
   "outputs": [],
   "source": [
    "_scale(4, 3, 0)"
   ]
  },
  {
   "cell_type": "code",
   "execution_count": null,
   "id": "b6b2f815-7d66-40df-8fa5-9e3d0ebcb141",
   "metadata": {},
   "outputs": [],
   "source": [
    "_scale(40, 30, 0)"
   ]
  },
  {
   "attachments": {},
   "cell_type": "markdown",
   "id": "b2fcedbe-59bf-4e6a-b936-baba0bc99745",
   "metadata": {},
   "source": [
    "A scale factor of `1` does not change a vector's length"
   ]
  },
  {
   "cell_type": "code",
   "execution_count": null,
   "id": "e9579055-5e71-457d-a2f3-4bb0a4743244",
   "metadata": {},
   "outputs": [],
   "source": [
    "_scale(4, 3, 1)"
   ]
  },
  {
   "cell_type": "code",
   "execution_count": null,
   "id": "dfd626c5-6425-45aa-a581-76442d127116",
   "metadata": {},
   "outputs": [],
   "source": [
    "_scale(40, 30, 1)"
   ]
  },
  {
   "cell_type": "code",
   "execution_count": null,
   "id": "f736dfa7-8073-488e-b8ae-4dd10bba86f8",
   "metadata": {},
   "outputs": [],
   "source": [
    "#| hide\n",
    "import nbdev; nbdev.nbdev_export()"
   ]
  }
 ],
 "metadata": {
  "kernelspec": {
   "display_name": "python3",
   "language": "python",
   "name": "python3"
  }
 },
 "nbformat": 4,
 "nbformat_minor": 5
}
